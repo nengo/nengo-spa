{
 "cells": [
  {
   "cell_type": "markdown",
   "metadata": {},
   "source": [
    "# Vocabulary casting\n",
    "\n",
    "Consider this SPA model:"
   ]
  },
  {
   "cell_type": "code",
   "execution_count": 1,
   "metadata": {
    "execution": {
     "iopub.execute_input": "2021-11-30T19:29:43.427691Z",
     "iopub.status.busy": "2021-11-30T19:29:43.426909Z",
     "iopub.status.idle": "2021-11-30T19:29:44.345590Z",
     "shell.execute_reply": "2021-11-30T19:29:44.346031Z"
    }
   },
   "outputs": [],
   "source": [
    "%matplotlib inline\n",
    "\n",
    "import matplotlib.pyplot as plt\n",
    "import nengo\n",
    "import numpy as np\n",
    "\n",
    "import nengo_spa as spa\n",
    "\n",
    "# Change the seed of this RNG to change the vocabulary\n",
    "rng = np.random.RandomState(0)"
   ]
  },
  {
   "cell_type": "code",
   "execution_count": 2,
   "metadata": {
    "execution": {
     "iopub.execute_input": "2021-11-30T19:29:44.415974Z",
     "iopub.status.busy": "2021-11-30T19:29:44.348511Z",
     "iopub.status.idle": "2021-11-30T19:29:44.418016Z",
     "shell.execute_reply": "2021-11-30T19:29:44.418367Z"
    }
   },
   "outputs": [],
   "source": [
    "d = 16\n",
    "vocab1 = spa.Vocabulary(16, pointer_gen=rng)\n",
    "vocab2 = spa.Vocabulary(16, pointer_gen=rng)\n",
    "\n",
    "with spa.Network() as model:\n",
    "    state1 = spa.State(vocab=vocab1)\n",
    "    state2 = spa.State(vocab=vocab2)"
   ]
  },
  {
   "cell_type": "markdown",
   "metadata": {},
   "source": [
    "In this model `state1` and `state2` are assigned to different and independent\n",
    "vocabularies. This means we cannot simply connect `state1` and `state2` in SPA actions\n",
    "because Nengo cannot know how to transform (\"cast\") from one vocabulary to the other\n",
    "vocabulary. We are required to tell Nengo how we want to do this cast. Currently there\n",
    "two methods implemented."
   ]
  },
  {
   "cell_type": "markdown",
   "metadata": {},
   "source": [
    "## Reinterpretation\n",
    "\n",
    "The `reinterpret` method can only be used with vocabularies of the same dimension. It\n",
    "will not change the semantic pointer passed from one state to the other, but changes it\n",
    "interpretation."
   ]
  },
  {
   "cell_type": "code",
   "execution_count": 3,
   "metadata": {
    "execution": {
     "iopub.execute_input": "2021-11-30T19:29:44.435403Z",
     "iopub.status.busy": "2021-11-30T19:29:44.434532Z",
     "iopub.status.idle": "2021-11-30T19:29:44.436243Z",
     "shell.execute_reply": "2021-11-30T19:29:44.436704Z"
    }
   },
   "outputs": [],
   "source": [
    "d1 = 16\n",
    "d2 = 16\n",
    "vocab1 = spa.Vocabulary(d1, pointer_gen=rng)\n",
    "vocab1.populate(\"A\")\n",
    "vocab2 = spa.Vocabulary(d2, pointer_gen=rng)\n",
    "vocab2.populate(\"A\")\n",
    "\n",
    "with spa.Network() as model:\n",
    "    state1 = spa.State(vocab=vocab1)\n",
    "    state2 = spa.State(vocab=vocab2)\n",
    "    spa.sym.A >> state1\n",
    "    spa.reinterpret(state1) >> state2\n",
    "\n",
    "    p = nengo.Probe(state2.output, synapse=0.03)"
   ]
  },
  {
   "cell_type": "code",
   "execution_count": 4,
   "metadata": {
    "execution": {
     "iopub.execute_input": "2021-11-30T19:29:44.443198Z",
     "iopub.status.busy": "2021-11-30T19:29:44.438696Z",
     "iopub.status.idle": "2021-11-30T19:29:45.299322Z",
     "shell.execute_reply": "2021-11-30T19:29:45.300995Z"
    }
   },
   "outputs": [],
   "source": [
    "with nengo.Simulator(model) as sim:\n",
    "    sim.run(0.5)"
   ]
  },
  {
   "cell_type": "code",
   "execution_count": 5,
   "metadata": {
    "execution": {
     "iopub.execute_input": "2021-11-30T19:29:45.312234Z",
     "iopub.status.busy": "2021-11-30T19:29:45.310882Z",
     "iopub.status.idle": "2021-11-30T19:29:45.552404Z",
     "shell.execute_reply": "2021-11-30T19:29:45.551996Z"
    }
   },
   "outputs": [
    {
     "data": {
      "text/plain": [
       "<matplotlib.legend.Legend at 0x7f649ade4280>"
      ]
     },
     "execution_count": 5,
     "metadata": {},
     "output_type": "execute_result"
    },
    {
     "data": {
      "image/png": "[encoded data removed]",
      "text/plain": [
       "<Figure size 432x288 with 1 Axes>"
      ]
     },
     "metadata": {
      "needs_background": "light"
     },
     "output_type": "display_data"
    }
   ],
   "source": [
    "plt.plot(sim.trange(), spa.similarity(sim.data[p], vocab1), label=\"vocab1\")\n",
    "plt.plot(sim.trange(), spa.similarity(sim.data[p], vocab2), label=\"vocab2\")\n",
    "plt.xlabel(\"Time [s]\")\n",
    "plt.ylabel(\"Similarity\")\n",
    "plt.legend(loc=\"best\")"
   ]
  },
  {
   "cell_type": "markdown",
   "metadata": {},
   "source": [
    "## Translation\n",
    "\n",
    "Translation matches the vocabularies by the keys and uses the outer product of the\n",
    "corresponding semantic pointers as a transformation matrix to transform vectors from one\n",
    "vocabulary to another vocabulary. This works also with vocabularies of differing\n",
    "dimensionality."
   ]
  },
  {
   "cell_type": "code",
   "execution_count": 6,
   "metadata": {
    "execution": {
     "iopub.execute_input": "2021-11-30T19:29:45.572112Z",
     "iopub.status.busy": "2021-11-30T19:29:45.571303Z",
     "iopub.status.idle": "2021-11-30T19:29:45.573638Z",
     "shell.execute_reply": "2021-11-30T19:29:45.573264Z"
    }
   },
   "outputs": [],
   "source": [
    "d1 = 16\n",
    "d2 = 32\n",
    "vocab1 = spa.Vocabulary(d1, pointer_gen=rng)\n",
    "vocab1.populate(\"A\")\n",
    "vocab2 = spa.Vocabulary(d2, pointer_gen=rng)\n",
    "vocab2.populate(\"A\")\n",
    "\n",
    "with spa.Network() as model:\n",
    "    state1 = spa.State(vocab=vocab1)\n",
    "    state2 = spa.State(vocab=vocab2)\n",
    "    spa.sym.A >> state1\n",
    "    spa.translate(state1, vocab2) >> state2\n",
    "\n",
    "    p = nengo.Probe(state2.output, synapse=0.03)"
   ]
  },
  {
   "cell_type": "code",
   "execution_count": 7,
   "metadata": {
    "execution": {
     "iopub.execute_input": "2021-11-30T19:29:45.580269Z",
     "iopub.status.busy": "2021-11-30T19:29:45.579813Z",
     "iopub.status.idle": "2021-11-30T19:29:46.740860Z",
     "shell.execute_reply": "2021-11-30T19:29:46.741905Z"
    }
   },
   "outputs": [],
   "source": [
    "with nengo.Simulator(model) as sim:\n",
    "    sim.run(0.5)"
   ]
  },
  {
   "cell_type": "code",
   "execution_count": 8,
   "metadata": {
    "execution": {
     "iopub.execute_input": "2021-11-30T19:29:46.746381Z",
     "iopub.status.busy": "2021-11-30T19:29:46.745642Z",
     "iopub.status.idle": "2021-11-30T19:29:46.967887Z",
     "shell.execute_reply": "2021-11-30T19:29:46.967327Z"
    }
   },
   "outputs": [
    {
     "data": {
      "text/plain": [
       "<matplotlib.legend.Legend at 0x7f649adcbf40>"
      ]
     },
     "execution_count": 8,
     "metadata": {},
     "output_type": "execute_result"
    },
    {
     "data": {
      "image/png": "[encoded data removed]",
      "text/plain": [
       "<Figure size 432x288 with 1 Axes>"
      ]
     },
     "metadata": {
      "needs_background": "light"
     },
     "output_type": "display_data"
    }
   ],
   "source": [
    "plt.plot(sim.trange(), spa.similarity(sim.data[p], vocab2), label=\"vocab2\")\n",
    "plt.xlabel(\"Time [s]\")\n",
    "plt.ylabel(\"Similarity\")\n",
    "plt.legend(loc=\"best\")"
   ]
  },
  {
   "cell_type": "markdown",
   "metadata": {},
   "source": [
    "## Further options\n",
    "\n",
    "Both `translate` and `reinterpret` try to infer the target vocabularies, but this might\n",
    "not be possible in all cases. Thus, both functions take an additional argument which can\n",
    "either be a SPA module or a vocabulary. If it is a SPA module (e.g., `translate(state1,\n",
    "state2)`), that module's vocabulary will be used as target vocabulary. If it is a\n",
    "vocabulary, the given vocabulary will be used as target vocabulary (e.g.,\n",
    "`translate(state1, vocab2)`). Note that in the latter case a dictionary specifying the\n",
    "names and vocabularies has to be passed as the `vocabs` argument to the `Actions`\n",
    "instance like so: `Actions('translate(state1, vocab2) -> state2')`.\n",
    "\n",
    "Note that you can give the second argument to `translate` and `reinterpret` also as a\n",
    "keyword argument (e.g., `translate(state1, vocab=state2)`."
   ]
  }
 ],
 "metadata": {
  "language_info": {
   "codemirror_mode": {
    "name": "ipython",
    "version": 3
   },
   "file_extension": ".py",
   "mimetype": "text/x-python",
   "name": "python",
   "nbconvert_exporter": "python",
   "pygments_lexer": "ipython3",
   "version": "3.8.3"
  }
 },
 "nbformat": 4,
 "nbformat_minor": 1
}
