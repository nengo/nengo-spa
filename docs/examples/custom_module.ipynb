{
 "metadata": {
  "kernelspec": {
   "display_name": "Python 3",
   "language": "python",
   "name": "python3"
  },
  "language_info": {
   "codemirror_mode": {
    "name": "ipython",
    "version": 3
   },
   "file_extension": ".py",
   "mimetype": "text/x-python",
   "name": "python",
   "nbconvert_exporter": "python",
   "pygments_lexer": "ipython3",
   "version": "3.6.5"
  },
  "name": ""
 },
 "nbformat": 3,
 "nbformat_minor": 0,
 "worksheets": [
  {
   "cells": [
    {
     "cell_type": "markdown",
     "metadata": {},
     "source": [
      "# Implementing a custom module\n",
      "\n",
      "This example demonstrates how custom SPA modules can be created that can take advantage of all the features of the SPA syntax. We will adapt the `InputGatedMemory` from `nengo`."
     ]
    },
    {
     "cell_type": "code",
     "collapsed": false,
     "input": [
      "import nengo\n",
      "import nengo_spa as spa"
     ],
     "language": "python",
     "metadata": {},
     "outputs": [],
     "prompt_number": 1
    },
    {
     "cell_type": "markdown",
     "metadata": {},
     "source": [
      "Implementing a SPA module requires a few steps:\n",
      "\n",
      "1. Implement a class inheriting from `spa.Network`.\n",
      "2. Use `VocabularyOrDimParam` to declare class variables for storing vocublary parameters. This will allow the usage of integer dimensions instead of vocabularies without any further additions.\n",
      "3. Declare inputs and outputs with their respective vocabularies.\n",
      "\n",
      "Not that parameters in SPA modules should usually be defined as readonly because changing them will usually not update the network accordingly."
     ]
    },
    {
     "cell_type": "code",
     "collapsed": false,
     "input": [
      "class GatedMemory(spa.Network):\n",
      "    \n",
      "    # The vocabulary parameter.\n",
      "    vocab = spa.vocabulary.VocabularyOrDimParam('vocab', default=None, readonly=True)\n",
      "    # The number of neurons per dimensions.\n",
      "    neurons_per_dimension = nengo.params.IntParam('neurons_per_dimension', default=200, low=1, readonly=True)\n",
      "    \n",
      "    # Arguments assigned to parameters should be assigned nengo.params.Default as default value.\n",
      "    # This makes sure they work properly with nengo.Config.\n",
      "    # It is a good idea to pass on the keyword arguments **kwargs to the spa.Network constructor to\n",
      "    # allow the user to set the network label etc.\n",
      "    def __init__(self, vocab=nengo.params.Default, neurons_per_dimension=nengo.params.Default, **kwargs):\n",
      "        super(GatedMemory, self).__init__(**kwargs)\n",
      "        \n",
      "        # Assign parameter values\n",
      "        # If vocab is an integer dimension, the appropriate Vocabulary instance will assigned to self.vocab.\n",
      "        self.vocab = vocab\n",
      "        self.neurons_per_dimension = neurons_per_dimension\n",
      "    \n",
      "        # Construct the network\n",
      "        with self:\n",
      "            self.mem = nengo.networks.InputGatedMemory(\n",
      "                self.neurons_per_dimension, self.vocab.dimensions)\n",
      "        \n",
      "        # Assign inputs to root object for easier referencing\n",
      "        self.input = self.mem.input\n",
      "        self.input_gate = self.mem.gate\n",
      "        self.input_reset = self.mem.reset\n",
      "        self.output = self.mem.output\n",
      "        \n",
      "        # Declare inputs and outputs\n",
      "        # Use None as vocabulary for scalar inputs/outputs\n",
      "        self.declare_input(self.input, self.vocab)\n",
      "        self.declare_input(self.input_gate, None)\n",
      "        self.declare_input(self.input_reset, None)\n",
      "        self.declare_output(self.output, self.vocab)"
     ],
     "language": "python",
     "metadata": {},
     "outputs": [],
     "prompt_number": 2
    },
    {
     "cell_type": "markdown",
     "metadata": {},
     "source": [
      "We can then use our new module as we would any other module."
     ]
    },
    {
     "cell_type": "code",
     "collapsed": false,
     "input": [
      "dimensions = 32\n",
      "\n",
      "with spa.Network() as model:\n",
      "    # The module can be configured\n",
      "    model.config[GatedMemory].neurons_per_dimension = 150\n",
      "    \n",
      "    spa_in = spa.Transcode(\"OKAY\", output_vocab=dimensions)\n",
      "    gate_in = nengo.Node(lambda t: 1 if t < 0.1 else 0)\n",
      "\n",
      "    g_mem = GatedMemory(dimensions)\n",
      "    \n",
      "    # It can be in routing rules\n",
      "    spa_in >> g_mem\n",
      "    gate_in >> g_mem.input_gate"
     ],
     "language": "python",
     "metadata": {},
     "outputs": [],
     "prompt_number": 3
    }
   ],
   "metadata": {}
  }
 ]
}

