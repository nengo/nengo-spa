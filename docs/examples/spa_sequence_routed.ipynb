{
 "metadata": {
  "kernelspec": {
   "display_name": "Python 3",
   "language": "python",
   "name": "python3"
  },
  "language_info": {
   "codemirror_mode": {
    "name": "ipython",
    "version": 3
   },
   "file_extension": ".py",
   "mimetype": "text/x-python",
   "name": "python",
   "nbconvert_exporter": "python",
   "pygments_lexer": "ipython3",
   "version": "3.6.1"
  },
  "name": ""
 },
 "nbformat": 3,
 "nbformat_minor": 0,
 "worksheets": [
  {
   "cells": [
    {
     "cell_type": "heading",
     "level": 1,
     "metadata": {},
     "source": [
      "Routed sequencing"
     ]
    },
    {
     "cell_type": "markdown",
     "metadata": {},
     "source": [
      "This demo uses the basal ganglia model to cycle through a 5 element sequence, where an arbitrary start can be presented to the model. The addition of routing allows the system to choose between two different actions: whether to go through the sequence, or be driven by the visual input. If the visual input has its value set to 0.8*START+D (for instance), it will begin cycling through at D$\\rightarrow$E, etc. The 0.8 scaling helps ensure start is unlikely to accidentally match other SPAs (which can be a problem in low dimensional examples like this one)."
     ]
    },
    {
     "cell_type": "code",
     "collapsed": false,
     "input": [
      "# Setup for the notebook\n",
      "import matplotlib.pyplot as plt\n",
      "%matplotlib inline\n",
      "\n",
      "import nengo\n",
      "import nengo_spa as spa"
     ],
     "language": "python",
     "metadata": {},
     "outputs": [],
     "prompt_number": 1
    },
    {
     "cell_type": "heading",
     "level": 2,
     "metadata": {},
     "source": [
      "Step 1: Create the model"
     ]
    },
    {
     "cell_type": "markdown",
     "metadata": {},
     "source": [
      "Notice that when you specify actions, you're determining which modules are connected to which. For example, by having a mapping that depends on the state of cortex, you are determining that the cortex and basal ganglia must be connected. As well, when you specify that the result of the action changes the state of cortex, then you are determining that thalamus must be connected to cortex.\n"
     ]
    },
    {
     "cell_type": "code",
     "collapsed": false,
     "input": [
      "def start(t):\n",
      "    if t < 0.1:\n",
      "        return '0.8*START+D'\n",
      "    else:\n",
      "        return '0'\n",
      "\n",
      "# Number of dimensions for the Semantic Pointers\n",
      "dimensions = 16\n",
      "\n",
      "# Make a model object with the SPA network\n",
      "model = spa.Network(label='Routed_Sequence')\n",
      "\n",
      "with model:\n",
      "    # Specify the modules to be used\n",
      "    vision = spa.Transcode(start, output_vocab=dimensions) \n",
      "    cortex = spa.State(dimensions)\n",
      "\n",
      "    # Specify the action mapping\n",
      "    with spa.ActionSelection() as action_sel:\n",
      "        spa.ifmax(\"Start\", spa.dot(vision, spa.sym.START),\n",
      "            vision >> cortex)\n",
      "        spa.ifmax(\"A to B\", spa.dot(cortex, spa.sym.A),\n",
      "            spa.sym.B >> cortex)\n",
      "        spa.ifmax(\"B to C\", spa.dot(cortex, spa.sym.B),\n",
      "            spa.sym.C >> cortex)\n",
      "        spa.ifmax(\"C to D\", spa.dot(cortex, spa.sym.C),\n",
      "            spa.sym.D >> cortex)\n",
      "        spa.ifmax(\"D to E\", spa.dot(cortex, spa.sym.D),\n",
      "            spa.sym.E >> cortex)\n",
      "        spa.ifmax(\"E to A\", spa.dot(cortex, spa.sym.E),\n",
      "            spa.sym.A >> cortex)"
     ],
     "language": "python",
     "metadata": {},
     "outputs": [],
     "prompt_number": 2
    },
    {
     "cell_type": "heading",
     "level": 2,
     "metadata": {},
     "source": [
      "Step 3: Probe the output"
     ]
    },
    {
     "cell_type": "code",
     "collapsed": false,
     "input": [
      "with model:\n",
      "    p_cortex = nengo.Probe(cortex.output, synapse=0.01)\n",
      "    p_vision = nengo.Probe(vision.output, synapse=0.01)\n",
      "    p_selected_actions = nengo.Probe(action_sel.thalamus.output, synapse=0.01)\n",
      "    p_utility = nengo.Probe(action_sel.bg.input, synapse=0.01)"
     ],
     "language": "python",
     "metadata": {},
     "outputs": [],
     "prompt_number": 3
    },
    {
     "cell_type": "heading",
     "level": 2,
     "metadata": {},
     "source": [
      "Step 4: Run the model"
     ]
    },
    {
     "cell_type": "code",
     "collapsed": false,
     "input": [
      "with nengo.Simulator(model) as sim:\n",
      "    sim.run(0.5)"
     ],
     "language": "python",
     "metadata": {},
     "outputs": [],
     "prompt_number": 4
    },
    {
     "cell_type": "heading",
     "level": 2,
     "metadata": {},
     "source": [
      "Step 5: Plot the results"
     ]
    },
    {
     "cell_type": "code",
     "collapsed": false,
     "input": [
      "vocab = model.vocabs[dimensions]\n",
      "\n",
      "fig, (p1, p2, p3, p4) = plt.subplots(4, 1, sharex=True, figsize=(12,8))\n",
      "p1.plot(sim.trange(), spa.similarity(sim.data[p_vision], vocab))\n",
      "p1.legend(vocab.keys(), loc='right', bbox_to_anchor=(1.15, -0.1))\n",
      "p1.set_ylabel('Vision')\n",
      "\n",
      "p2.plot(sim.trange(), spa.similarity(sim.data[p_cortex], vocab))\n",
      "p2.set_ylabel('Cortex')\n",
      "\n",
      "p3.plot(sim.trange(), sim.data[p_utility])\n",
      "p3.legend(tuple(action_sel.keys()), loc='right', bbox_to_anchor=(1.15, -0.1))\n",
      "p3.set_ylabel('Utility')\n",
      "\n",
      "p4.plot(sim.trange(), sim.data[p_selected_actions])\n",
      "p4.set_ylabel('Selected Action')\n",
      "p4.set_xlabel(\"Time (s)\")"
     ],
     "language": "python",
     "metadata": {},
     "outputs": [],
     "prompt_number": 5
    }
   ],
   "metadata": {}
  }
 ]
}

