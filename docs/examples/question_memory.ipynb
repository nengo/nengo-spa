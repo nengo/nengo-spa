{
 "metadata": {
  "kernelspec": {
   "display_name": "Python 3",
   "language": "python",
   "name": "python3"
  },
  "language_info": {
   "codemirror_mode": {
    "name": "ipython",
    "version": 3
   },
   "file_extension": ".py",
   "mimetype": "text/x-python",
   "name": "python",
   "nbconvert_exporter": "python",
   "pygments_lexer": "ipython3",
   "version": "3.6.1"
  },
  "name": ""
 },
 "nbformat": 3,
 "nbformat_minor": 0,
 "worksheets": [
  {
   "cells": [
    {
     "cell_type": "markdown",
     "metadata": {},
     "source": [
      "# Simple question answering with memory\n",
      "\n",
      "This demo implements a simple form of question answering. Two features (color and shape) will be bound by circular convolution and stored in a memory population. A cue will be used to determine either one of the features by deconvolution.\n",
      "\n",
      "When you run the network, it will start by binding `RED` and `CIRCLE` for 0.25 seconds and then binding `BLUE` and `SQUARE` for 0.25 seconds. Both bound semantic pointers are stored in a memory population. Then the network is asked with the cue. For example, when the cue is `CIRCLE` the network will respond with `RED`."
     ]
    },
    {
     "cell_type": "code",
     "collapsed": false,
     "input": [
      "import matplotlib.pyplot as plt\n",
      "%matplotlib inline\n",
      "\n",
      "import nengo\n",
      "import nengo_spa as spa"
     ],
     "language": "python",
     "metadata": {},
     "outputs": [],
     "prompt_number": 1
    },
    {
     "cell_type": "markdown",
     "metadata": {},
     "source": [
      "## Define the input functions\n",
      "\n",
      "The color input will `RED` and then `BLUE` for 0.25 seconds each before being turned off. In the same way the shape input will be `CIRCLE` and then `SQUARE` for 0.25 seconds each. Thus, the network will bind alternatingly `RED * CIRCLE` and `BLUE * SQUARE` for 0.5 seconds each.\n",
      "\n",
      "The cue for deconvolving bound semantic pointers will be turned off for 0.5 seconds and then cycles through `CIRCLE`, `RED`, `SQUARE`, and `BLUE` within one second. "
     ]
    },
    {
     "cell_type": "code",
     "collapsed": false,
     "input": [
      "def color_input(t):\n",
      "    if t < 0.25:\n",
      "        return 'RED'\n",
      "    elif t < 0.5:\n",
      "        return 'BLUE'\n",
      "    else:\n",
      "        return '0'\n",
      "\n",
      "def shape_input(t):\n",
      "    if t < 0.25:\n",
      "        return 'CIRCLE'\n",
      "    elif t < 0.5:\n",
      "        return 'SQUARE'\n",
      "    else:\n",
      "        return '0'\n",
      "\n",
      "def cue_input(t):\n",
      "    if t < 0.5:\n",
      "        return '0'\n",
      "    sequence = ['0', 'CIRCLE', 'RED', '0', 'SQUARE', 'BLUE']\n",
      "    idx = int(((t - 0.5) // (1. / len(sequence))) % len(sequence))\n",
      "    return sequence[idx]"
     ],
     "language": "python",
     "metadata": {},
     "outputs": [],
     "prompt_number": 2
    },
    {
     "cell_type": "heading",
     "level": 2,
     "metadata": {},
     "source": [
      "Create the model"
     ]
    },
    {
     "cell_type": "code",
     "collapsed": false,
     "input": [
      "# Number of dimensions for the Semantic Pointers\n",
      "dimensions = 32\n",
      "\n",
      "model = spa.Network(label=\"Simple question answering\")\n",
      "\n",
      "with model:\n",
      "    color_in = spa.Transcode(color_input, output_vocab=dimensions)\n",
      "    shape_in = spa.Transcode(shape_input, output_vocab=dimensions)\n",
      "    conv = spa.State(dimensions, subdimensions=4, feedback=1., feedback_synapse=0.4)\n",
      "    cue = spa.Transcode(cue_input, output_vocab=dimensions)\n",
      "    out = spa.State(dimensions)\n",
      "    \n",
      "    # Connect the buffers\n",
      "    color_in * shape_in >> conv\n",
      "    conv * ~cue >> out"
     ],
     "language": "python",
     "metadata": {},
     "outputs": [],
     "prompt_number": 3
    },
    {
     "cell_type": "heading",
     "level": 2,
     "metadata": {},
     "source": [
      "Probe the output"
     ]
    },
    {
     "cell_type": "code",
     "collapsed": false,
     "input": [
      "with model:\n",
      "    model.config[nengo.Probe].synapse = nengo.Lowpass(0.03)\n",
      "    p_color_in = nengo.Probe(color_in.output)\n",
      "    p_shape_in = nengo.Probe(shape_in.output)\n",
      "    p_cue = nengo.Probe(cue.output)\n",
      "    p_conv = nengo.Probe(conv.output)\n",
      "    p_out = nengo.Probe(out.output)"
     ],
     "language": "python",
     "metadata": {},
     "outputs": [],
     "prompt_number": 4
    },
    {
     "cell_type": "heading",
     "level": 2,
     "metadata": {},
     "source": [
      "Run the model"
     ]
    },
    {
     "cell_type": "code",
     "collapsed": false,
     "input": [
      "with nengo.Simulator(model) as sim:\n",
      "    sim.run(3.)"
     ],
     "language": "python",
     "metadata": {},
     "outputs": [],
     "prompt_number": 5
    },
    {
     "cell_type": "heading",
     "level": 2,
     "metadata": {},
     "source": [
      "Plot the results"
     ]
    },
    {
     "cell_type": "code",
     "collapsed": false,
     "input": [
      "plt.figure(figsize=(10, 10))\n",
      "vocab = model.vocabs[dimensions]\n",
      "\n",
      "plt.subplot(5, 1, 1)\n",
      "plt.plot(sim.trange(), spa.similarity(sim.data[p_color_in], vocab))\n",
      "plt.legend(vocab.keys(), fontsize='x-small')\n",
      "plt.ylabel(\"color\")\n",
      "\n",
      "plt.subplot(5, 1, 2)\n",
      "plt.plot(sim.trange(), spa.similarity(sim.data[p_shape_in], vocab))\n",
      "plt.legend(vocab.keys(), fontsize='x-small')\n",
      "plt.ylabel(\"shape\")\n",
      "\n",
      "plt.subplot(5, 1, 3)\n",
      "plt.plot(sim.trange(), spa.similarity(sim.data[p_cue], vocab))\n",
      "plt.legend(vocab.keys(), fontsize='x-small')\n",
      "plt.ylabel(\"cue\")\n",
      "\n",
      "plt.subplot(5, 1, 4)\n",
      "for pointer in ['RED * CIRCLE', 'BLUE * SQUARE']:\n",
      "    plt.plot(sim.trange(), vocab.parse(pointer).dot(sim.data[p_conv].T), label=pointer)\n",
      "plt.legend(fontsize='x-small')\n",
      "plt.ylabel(\"convolved\")\n",
      "\n",
      "plt.subplot(5, 1, 5)\n",
      "plt.plot(sim.trange(), spa.similarity(sim.data[p_out], vocab))\n",
      "plt.legend(vocab.keys(), fontsize='x-small')\n",
      "plt.ylabel(\"Output\")\n",
      "plt.xlabel(\"time [s]\");"
     ],
     "language": "python",
     "metadata": {},
     "outputs": [],
     "prompt_number": 6
    },
    {
     "cell_type": "markdown",
     "metadata": {},
     "source": [
      "The plots of `shape`, `color`, and `convolved` show that first `RED * CIRCLE` and then `BLUE * SQUARE` will be loaded into the `convolved` buffer so after 0.5 seconds it represents the superposition `RED * CIRCLE + BLUE * SQUARE`.\n",
      "\n",
      "The last plot shows that the output is most similar to the semantic pointer bound to the current cue. For example, when `RED` and `CIRCLE` are being convolved and the cue is `CIRCLE`, the output is most similar to `RED`. Thus, it is possible to unbind semantic pointers from the superposition stored in `convolved`."
     ]
    }
   ],
   "metadata": {}
  }
 ]
}

