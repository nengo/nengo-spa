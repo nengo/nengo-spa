{
 "metadata": {
  "kernelspec": {
   "display_name": "Python 3",
   "language": "python",
   "name": "python3"
  },
  "language_info": {
   "codemirror_mode": {
    "name": "ipython",
    "version": 3
   },
   "file_extension": ".py",
   "mimetype": "text/x-python",
   "name": "python",
   "nbconvert_exporter": "python",
   "pygments_lexer": "ipython3",
   "version": "3.6.1"
  },
  "name": ""
 },
 "nbformat": 3,
 "nbformat_minor": 0,
 "worksheets": [
  {
   "cells": [
    {
     "cell_type": "markdown",
     "metadata": {},
     "source": [
      "# Simple question answering\n",
      "\n",
      "This demo implements a simple form of question answering. Two features (color and shape) will be bound by circular convolution. A cue will be used to determine either one of the features by deconvolution.\n",
      "\n",
      "When you run the network, it will start by binding `RED` and `CIRCLE` for 0.5 seconds and then binding `BLUE` and `SQUARE` for 0.5 seconds. In parallel the network is asked with the cue. For example, when the cue is `CIRCLE` the network will respond with `RED`."
     ]
    },
    {
     "cell_type": "code",
     "collapsed": false,
     "input": [
      "import matplotlib.pyplot as plt\n",
      "%matplotlib inline\n",
      "\n",
      "import nengo\n",
      "import nengo_spa as spa"
     ],
     "language": "python",
     "metadata": {},
     "outputs": [],
     "prompt_number": 1
    },
    {
     "cell_type": "heading",
     "level": 2,
     "metadata": {},
     "source": [
      "Step 1: Define the vocabulary dimension and network"
     ]
    },
    {
     "cell_type": "code",
     "collapsed": false,
     "input": [
      "# Number of dimensions for the Semantic Pointers\n",
      "dimensions = 32\n",
      "\n",
      "model = spa.Network(label=\"Simple question answering\")"
     ],
     "language": "python",
     "metadata": {},
     "outputs": [],
     "prompt_number": 2
    },
    {
     "cell_type": "markdown",
     "metadata": {},
     "source": [
      "## Step 2: Define the input\n",
      "\n",
      "The color input will switch every 0.5 seconds between `RED` and `BLUE`. In the same way the shape input switches between `CIRCLE` and `SQUARE`. Thus, the network will bind alternatingly `RED * CIRCLE` and `BLUE * SQUARE` for 0.5 seconds each.\n",
      "\n",
      "The cue for deconvolving bound semantic pointers cycles through `CIRCLE`, `RED`, `SQUARE`, and `BLUE` within one second. "
     ]
    },
    {
     "cell_type": "code",
     "collapsed": false,
     "input": [
      "def color_input(t):\n",
      "    if (t // 0.5) % 2 == 0:\n",
      "        return 'RED'\n",
      "    else:\n",
      "        return 'BLUE'\n",
      "\n",
      "def shape_input(t):\n",
      "    if (t // 0.5) % 2 == 0:\n",
      "        return 'CIRCLE'\n",
      "    else:\n",
      "        return 'SQUARE'\n",
      "\n",
      "def cue_input(t):\n",
      "    sequence = ['0', 'CIRCLE', 'RED', '0', 'SQUARE', 'BLUE']\n",
      "    idx = int((t // (1. / len(sequence))) % len(sequence))\n",
      "    return sequence[idx]\n",
      "\n",
      "with model:\n",
      "    color_in = spa.Transcode(color_input, output_vocab=dimensions)\n",
      "    shape_in = spa.Transcode(shape_input, output_vocab=dimensions)\n",
      "    cue = spa.Transcode(cue_input, output_vocab=dimensions)"
     ],
     "language": "python",
     "metadata": {},
     "outputs": [],
     "prompt_number": 9
    },
    {
     "cell_type": "heading",
     "level": 2,
     "metadata": {},
     "source": [
      "Step 3: Create the model"
     ]
    },
    {
     "cell_type": "code",
     "collapsed": false,
     "input": [
      "with model:\n",
      "    conv = spa.State(dimensions)\n",
      "    out = spa.State(dimensions)\n",
      "    \n",
      "    # Connect the buffers\n",
      "    color_in * shape_in >> conv\n",
      "    conv * ~cue >> out"
     ],
     "language": "python",
     "metadata": {},
     "outputs": [],
     "prompt_number": 10
    },
    {
     "cell_type": "heading",
     "level": 2,
     "metadata": {},
     "source": [
      "Step 4: Probe the output"
     ]
    },
    {
     "cell_type": "code",
     "collapsed": false,
     "input": [
      "with model:\n",
      "    model.config[nengo.Probe].synapse = nengo.Lowpass(0.03)\n",
      "    p_color_in = nengo.Probe(color_in.output)\n",
      "    p_shape_in = nengo.Probe(shape_in.output)\n",
      "    p_cue = nengo.Probe(cue.output)\n",
      "    p_conv = nengo.Probe(conv.output)\n",
      "    p_out = nengo.Probe(out.output)"
     ],
     "language": "python",
     "metadata": {},
     "outputs": [],
     "prompt_number": 11
    },
    {
     "cell_type": "heading",
     "level": 2,
     "metadata": {},
     "source": [
      "Step 4: Run the model"
     ]
    },
    {
     "cell_type": "code",
     "collapsed": false,
     "input": [
      "with nengo.Simulator(model) as sim:\n",
      "    sim.run(3.)"
     ],
     "language": "python",
     "metadata": {},
     "outputs": [],
     "prompt_number": 12
    },
    {
     "cell_type": "heading",
     "level": 2,
     "metadata": {},
     "source": [
      "Step 5: Plot the results"
     ]
    },
    {
     "cell_type": "code",
     "collapsed": false,
     "input": [
      "plt.figure(figsize=(10, 10))\n",
      "vocab = model.vocabs[dimensions]\n",
      "\n",
      "plt.subplot(5, 1, 1)\n",
      "plt.plot(sim.trange(), spa.similarity(sim.data[p_color_in], vocab))\n",
      "plt.legend(vocab.keys(), fontsize='x-small')\n",
      "plt.ylabel(\"color\")\n",
      "\n",
      "plt.subplot(5, 1, 2)\n",
      "plt.plot(sim.trange(), spa.similarity(sim.data[p_shape_in], vocab))\n",
      "plt.legend(vocab.keys(), fontsize='x-small')\n",
      "plt.ylabel(\"shape\")\n",
      "\n",
      "plt.subplot(5, 1, 3)\n",
      "plt.plot(sim.trange(), spa.similarity(sim.data[p_cue], vocab))\n",
      "plt.legend(vocab.keys(), fontsize='x-small')\n",
      "plt.ylabel(\"cue\")\n",
      "\n",
      "plt.subplot(5, 1, 4)\n",
      "for pointer in ['RED * CIRCLE', 'BLUE * SQUARE']:\n",
      "    plt.plot(sim.trange(), vocab.parse(pointer).dot(sim.data[p_conv].T), label=pointer)\n",
      "plt.legend(fontsize='x-small')\n",
      "plt.ylabel(\"convolved\")\n",
      "\n",
      "plt.subplot(5, 1, 5)\n",
      "plt.plot(sim.trange(), spa.similarity(sim.data[p_out], vocab))\n",
      "plt.legend(vocab.keys(), fontsize='x-small')\n",
      "plt.ylabel(\"output\")\n",
      "plt.xlabel(\"time [s]\");"
     ],
     "language": "python",
     "metadata": {},
     "outputs": [],
     "prompt_number": 13
    },
    {
     "cell_type": "markdown",
     "metadata": {},
     "source": [
      "The last plot shows that the output is most similar to the semantic pointer bound to the current cue. For example, when `RED` and `CIRCLE` are being convolved and the cue is `CIRCLE`, the output is most similar to `RED`."
     ]
    }
   ],
   "metadata": {}
  }
 ]
}

