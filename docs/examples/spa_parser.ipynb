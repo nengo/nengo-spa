{
 "metadata": {
  "kernelspec": {
   "display_name": "Python 3",
   "language": "python",
   "name": "python3"
  },
  "language_info": {
   "codemirror_mode": {
    "name": "ipython",
    "version": 3
   },
   "file_extension": ".py",
   "mimetype": "text/x-python",
   "name": "python",
   "nbconvert_exporter": "python",
   "pygments_lexer": "ipython3",
   "version": "3.6.1"
  },
  "name": ""
 },
 "nbformat": 3,
 "nbformat_minor": 0,
 "worksheets": [
  {
   "cells": [
    {
     "cell_type": "heading",
     "level": 1,
     "metadata": {},
     "source": [
      "Parsing simple commands"
     ]
    },
    {
     "cell_type": "markdown",
     "metadata": {},
     "source": [
      "This example is a simplified version\n",
      "of the language parsing model presented in\n",
      "[Stewart & Eliasmith, 2013](http://compneuro.uwaterloo.ca/publications/stewart2013.html).\n",
      "Please refer to that paper for the high-level details."
     ]
    },
    {
     "cell_type": "code",
     "collapsed": false,
     "input": [
      "# Setup for the notebook\n",
      "import matplotlib.pyplot as plt\n",
      "%matplotlib inline\n",
      "\n",
      "import nengo\n",
      "import nengo_spa as spa"
     ],
     "language": "python",
     "metadata": {},
     "outputs": [],
     "prompt_number": 1
    },
    {
     "cell_type": "heading",
     "level": 2,
     "metadata": {},
     "source": [
      "Step 1: Create the model"
     ]
    },
    {
     "cell_type": "code",
     "collapsed": false,
     "input": [
      "sequence = 'WRITE ONE NONE WRITE TWO NONE THREE WRITE NONE'.split()\n",
      "\n",
      "def input_vision(t):\n",
      "    index = int(t / 0.5) % len(sequence)\n",
      "    return sequence[index]\n",
      "\n",
      "# Number of dimensions for the SPs\n",
      "dimensions = 64\n",
      "\n",
      "# Make a model object with the SPA network\n",
      "model = spa.Network(label='Parser')\n",
      "n_per_dim = 100\n",
      "\n",
      "with model:\n",
      "    # Specify the modules to be used\n",
      "    vision = spa.Transcode(input_vision, output_vocab=dimensions)\n",
      "    phrase = spa.State(dimensions, neurons_per_dimension=n_per_dim)\n",
      "    motor = spa.State(dimensions, neurons_per_dimension=n_per_dim)\n",
      "    noun = spa.State(dimensions, feedback=1., neurons_per_dimension=n_per_dim)\n",
      "    verb = spa.State(dimensions, feedback=1., neurons_per_dimension=n_per_dim)\n",
      "    \n",
      "    # Specify the action mapping\n",
      "    none_vision_cond = spa.dot(\n",
      "        spa.sym.NONE - spa.sym.WRITE - spa.sym.ONE - spa.sym.TWO - spa.sym.THREE,\n",
      "        vision)\n",
      "    num_vision_cond = spa.dot(vision, spa.sym.ONE + spa.sym.TWO + spa.sym.THREE)\n",
      "    \n",
      "    with spa.ActionSelection() as action_sel:\n",
      "        spa.ifmax(\"Write vis\", spa.dot(vision, spa.sym.WRITE),\n",
      "            vision >> verb)\n",
      "        spa.ifmax(\"Memorize\", num_vision_cond,\n",
      "            vision >> noun)\n",
      "        spa.ifmax(\n",
      "            \"Write mem\",\n",
      "            0.5 * (none_vision_cond + spa.dot(phrase, spa.sym.WRITE * spa.sym.VERB)),\n",
      "            phrase * ~spa.sym.NOUN >> motor)\n",
      "    \n",
      "    noun * spa.sym.NOUN + verb * spa.sym.VERB >> phrase"
     ],
     "language": "python",
     "metadata": {},
     "outputs": [],
     "prompt_number": 4
    },
    {
     "cell_type": "heading",
     "level": 2,
     "metadata": {},
     "source": [
      "Step 2: Probe the output"
     ]
    },
    {
     "cell_type": "code",
     "collapsed": false,
     "input": [
      "with model:\n",
      "    p_vision = nengo.Probe(vision.output, synapse=0.03)\n",
      "    p_phrase = nengo.Probe(phrase.output, synapse=0.03)\n",
      "    p_motor = nengo.Probe(motor.output, synapse=0.03)\n",
      "    p_noun = nengo.Probe(noun.output, synapse=0.03)\n",
      "    p_verb = nengo.Probe(verb.output, synapse=0.03)\n",
      "    p_selected_actions = nengo.Probe(action_sel.thalamus.output, synapse=0.01)\n",
      "    p_utility = nengo.Probe(action_sel.bg.input, synapse=0.01)"
     ],
     "language": "python",
     "metadata": {},
     "outputs": [],
     "prompt_number": 5
    },
    {
     "cell_type": "heading",
     "level": 2,
     "metadata": {},
     "source": [
      "Step 3: Run the model"
     ]
    },
    {
     "cell_type": "code",
     "collapsed": false,
     "input": [
      "with nengo.Simulator(model) as sim:\n",
      "    sim.run(4.5)"
     ],
     "language": "python",
     "metadata": {},
     "outputs": [],
     "prompt_number": 6
    },
    {
     "cell_type": "heading",
     "level": 2,
     "metadata": {},
     "source": [
      "Step 4: Plot the results"
     ]
    },
    {
     "cell_type": "code",
     "collapsed": false,
     "input": [
      "vocab = model.vocabs[dimensions]\n",
      "\n",
      "fig, ax = plt.subplots(7, 1, sharex=True, figsize=(16,12))\n",
      "\n",
      "ax[0].plot(sim.trange(), spa.similarity(sim.data[p_vision], vocab))\n",
      "ax[0].set_ylabel('Vision')\n",
      "\n",
      "ax[1].plot(sim.trange(), spa.similarity(sim.data[p_phrase], vocab))\n",
      "ax[1].set_ylabel('Phrase')\n",
      "\n",
      "ax[2].plot(sim.trange(), spa.similarity(sim.data[p_motor], vocab))\n",
      "ax[2].legend(vocab.keys(), loc='right', bbox_to_anchor=(1.11, 0.5))\n",
      "ax[2].set_ylabel('Motor')\n",
      "\n",
      "ax[3].plot(sim.trange(), spa.similarity(sim.data[p_noun], vocab))\n",
      "ax[3].set_ylabel('Noun')\n",
      "\n",
      "ax[4].plot(sim.trange(), spa.similarity(sim.data[p_verb], vocab))\n",
      "ax[4].set_ylabel('Verb')\n",
      "\n",
      "ax[5].plot(sim.trange(), sim.data[p_utility])\n",
      "ax[5].legend(tuple(action_sel.keys()), loc='right', bbox_to_anchor=(1.13, -0.1))\n",
      "ax[5].set_ylabel('Utility')\n",
      "\n",
      "ax[6].plot(sim.trange(), sim.data[p_selected_actions])\n",
      "ax[6].set_ylabel('Selected Action')"
     ],
     "language": "python",
     "metadata": {},
     "outputs": [],
     "prompt_number": 7
    }
   ],
   "metadata": {}
  }
 ]
}

