{
 "cells": [
  {
   "cell_type": "markdown",
   "metadata": {},
   "source": [
    "# Vocabulary casting\n",
    "\n",
    "Consider this SPA model:"
   ]
  },
  {
   "cell_type": "code",
   "execution_count": null,
   "metadata": {},
   "outputs": [],
   "source": [
    "%matplotlib inline\n",
    "\n",
    "import matplotlib.pyplot as plt\n",
    "import nengo\n",
    "import numpy as np\n",
    "\n",
    "import nengo_spa as spa\n",
    "\n",
    "# Change the seed of this RNG to change the vocabulary\n",
    "rng = np.random.RandomState(0)"
   ]
  },
  {
   "cell_type": "code",
   "execution_count": null,
   "metadata": {},
   "outputs": [],
   "source": [
    "d = 16\n",
    "vocab1 = spa.Vocabulary(16, pointer_gen=rng)\n",
    "vocab2 = spa.Vocabulary(16, pointer_gen=rng)\n",
    "\n",
    "with spa.Network() as model:\n",
    "    state1 = spa.State(vocab=vocab1)\n",
    "    state2 = spa.State(vocab=vocab2)"
   ]
  },
  {
   "cell_type": "markdown",
   "metadata": {},
   "source": [
    "In this model `state1` and `state2` are assigned to different and independent\n",
    "vocabularies. This means we cannot simply connect `state1` and `state2` in SPA actions\n",
    "because Nengo cannot know how to transform (\"cast\") from one vocabulary to the other\n",
    "vocabulary. We are required to tell Nengo how we want to do this cast. Currently there\n",
    "two methods implemented."
   ]
  },
  {
   "cell_type": "markdown",
   "metadata": {},
   "source": [
    "## Reinterpretation\n",
    "\n",
    "The `reinterpret` method can only be used with vocabularies of the same dimension. It\n",
    "will not change the semantic pointer passed from one state to the other, but changes it\n",
    "interpretation."
   ]
  },
  {
   "cell_type": "code",
   "execution_count": null,
   "metadata": {},
   "outputs": [],
   "source": [
    "d1 = 16\n",
    "d2 = 16\n",
    "vocab1 = spa.Vocabulary(d1, pointer_gen=rng)\n",
    "vocab1.populate(\"A\")\n",
    "vocab2 = spa.Vocabulary(d2, pointer_gen=rng)\n",
    "vocab2.populate(\"A\")\n",
    "\n",
    "with spa.Network() as model:\n",
    "    state1 = spa.State(vocab=vocab1)\n",
    "    state2 = spa.State(vocab=vocab2)\n",
    "    spa.sym.A >> state1\n",
    "    spa.reinterpret(state1) >> state2\n",
    "\n",
    "    p = nengo.Probe(state2.output, synapse=0.03)"
   ]
  },
  {
   "cell_type": "code",
   "execution_count": null,
   "metadata": {},
   "outputs": [],
   "source": [
    "with nengo.Simulator(model) as sim:\n",
    "    sim.run(0.5)"
   ]
  },
  {
   "cell_type": "code",
   "execution_count": null,
   "metadata": {},
   "outputs": [],
   "source": [
    "plt.plot(sim.trange(), spa.similarity(sim.data[p], vocab1), label=\"vocab1\")\n",
    "plt.plot(sim.trange(), spa.similarity(sim.data[p], vocab2), label=\"vocab2\")\n",
    "plt.xlabel(\"Time [s]\")\n",
    "plt.ylabel(\"Similarity\")\n",
    "plt.legend(loc=\"best\")"
   ]
  },
  {
   "cell_type": "markdown",
   "metadata": {},
   "source": [
    "## Translation\n",
    "\n",
    "Translation matches the vocabularies by the keys and uses the outer product of the\n",
    "corresponding semantic pointers as a transformation matrix to transform vectors from one\n",
    "vocabulary to another vocabulary. This works also with vocabularies of differing\n",
    "dimensionality."
   ]
  },
  {
   "cell_type": "code",
   "execution_count": null,
   "metadata": {},
   "outputs": [],
   "source": [
    "d1 = 16\n",
    "d2 = 32\n",
    "vocab1 = spa.Vocabulary(d1, pointer_gen=rng)\n",
    "vocab1.populate(\"A\")\n",
    "vocab2 = spa.Vocabulary(d2, pointer_gen=rng)\n",
    "vocab2.populate(\"A\")\n",
    "\n",
    "with spa.Network() as model:\n",
    "    state1 = spa.State(vocab=vocab1)\n",
    "    state2 = spa.State(vocab=vocab2)\n",
    "    spa.sym.A >> state1\n",
    "    spa.translate(state1, vocab2) >> state2\n",
    "\n",
    "    p = nengo.Probe(state2.output, synapse=0.03)"
   ]
  },
  {
   "cell_type": "code",
   "execution_count": null,
   "metadata": {},
   "outputs": [],
   "source": [
    "with nengo.Simulator(model) as sim:\n",
    "    sim.run(0.5)"
   ]
  },
  {
   "cell_type": "code",
   "execution_count": null,
   "metadata": {},
   "outputs": [],
   "source": [
    "plt.plot(sim.trange(), spa.similarity(sim.data[p], vocab2), label=\"vocab2\")\n",
    "plt.xlabel(\"Time [s]\")\n",
    "plt.ylabel(\"Similarity\")\n",
    "plt.legend(loc=\"best\")"
   ]
  },
  {
   "cell_type": "markdown",
   "metadata": {},
   "source": [
    "## Further options\n",
    "\n",
    "Both `translate` and `reinterpret` try to infer the target vocabularies, but this might\n",
    "not be possible in all cases. Thus, both functions take an additional argument which can\n",
    "either be a SPA module or a vocabulary. If it is a SPA module (e.g., `translate(state1,\n",
    "state2)`), that module's vocabulary will be used as target vocabulary. If it is a\n",
    "vocabulary, the given vocabulary will be used as target vocabulary (e.g.,\n",
    "`translate(state1, vocab2)`). Note that in the latter case a dictionary specifying the\n",
    "names and vocabularies has to be passed as the `vocabs` argument to the `Actions`\n",
    "instance like so: `Actions('translate(state1, vocab2) -> state2')`.\n",
    "\n",
    "Note that you can give the second argument to `translate` and `reinterpret` also as a\n",
    "keyword argument (e.g., `translate(state1, vocab=state2)`."
   ]
  }
 ],
 "metadata": {
  "language_info": {
   "name": "python",
   "pygments_lexer": "ipython3"
  }
 },
 "nbformat": 4,
 "nbformat_minor": 1
}
