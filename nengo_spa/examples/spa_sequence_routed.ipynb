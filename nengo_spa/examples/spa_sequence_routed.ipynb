{
 "metadata": {
  "name": ""
 },
 "nbformat": 3,
 "nbformat_minor": 0,
 "worksheets": [
  {
   "cells": [
    {
     "cell_type": "heading",
     "level": 1,
     "metadata": {},
     "source": [
      "Nengo example: Routed sequencing"
     ]
    },
    {
     "cell_type": "markdown",
     "metadata": {},
     "source": [
      "This demo uses the basal ganglia model to cycle through a 5 element sequence, where an arbitrary start can be presented to the model. The addition of routing allows the system to choose between two different actions: whether to go through the sequence, or be driven by the visual input. If the visual input has its value set to 0.8*START+D (for instance), it will begin cycling through at D->E, etc. The 0.8 scaling helps ensure start is unlikely to accidently match other SPAs (which can be a problem in low dimensional examples like this one)."
     ]
    },
    {
     "cell_type": "code",
     "collapsed": false,
     "input": [
      "# Setup for the notebook\n",
      "import matplotlib.pyplot as plt\n",
      "%matplotlib inline\n",
      "\n",
      "import nengo\n",
      "%load_ext nengo.ipynb\n",
      "import nengo_spa as spa"
     ],
     "language": "python",
     "metadata": {},
     "outputs": []
    },
    {
     "cell_type": "heading",
     "level": 2,
     "metadata": {},
     "source": [
      "Step 1: Create the model"
     ]
    },
    {
     "cell_type": "markdown",
     "metadata": {},
     "source": [
      "Notice that when you specify actions, you're determining which modules are connected to which. For example, by having a mapping that depends on the state of cortex, you are determining that the cortex and basal ganglia must be connected. As well, when you specify that the result of the action changes the state of cortex, then you are determining that thalamus must be connected to cortex.\n"
     ]
    },
    {
     "cell_type": "code",
     "collapsed": false,
     "input": [
      "# Number of dimensions for the Semantic Pointers\n",
      "dimensions = 16\n",
      "\n",
      "# Make a model object with the SPA network\n",
      "model = spa.Network(label='Routed_Sequence')\n",
      "\n",
      "with model:\n",
      "    # Specify the modules to be used\n",
      "    model.cortex = spa.State(dimensions)\n",
      "    model.vision = spa.State(dimensions) \n",
      "    # Specify the action mapping\n",
      "    spa.Actions(\n",
      "        'dot(vision, START) --> cortex = vision',\n",
      "        'dot(cortex, A) --> cortex = B',\n",
      "        'dot(cortex, B) --> cortex = C',\n",
      "        'dot(cortex, C) --> cortex = D',\n",
      "        'dot(cortex, D) --> cortex = E',\n",
      "        'dot(cortex, E) --> cortex = A'\n",
      "    ).build()"
     ],
     "language": "python",
     "metadata": {},
     "outputs": []
    },
    {
     "cell_type": "heading",
     "level": 2,
     "metadata": {},
     "source": [
      "Step 2: Provide the input"
     ]
    },
    {
     "cell_type": "markdown",
     "metadata": {},
     "source": [
      "Specify a function that provides the model with an initial input semantic pointer."
     ]
    },
    {
     "cell_type": "code",
     "collapsed": false,
     "input": [
      "def start(t):\n",
      "    if t < 0.1:\n",
      "        return '0.8*START+D'\n",
      "    else:\n",
      "        return '0'\n",
      "\n",
      "with model:\n",
      "    model.input = spa.Input()\n",
      "    model.input.vision = start"
     ],
     "language": "python",
     "metadata": {},
     "outputs": []
    },
    {
     "cell_type": "heading",
     "level": 2,
     "metadata": {},
     "source": [
      "Step 3: Probe the output"
     ]
    },
    {
     "cell_type": "code",
     "collapsed": false,
     "input": [
      "with model:\n",
      "    cortex = nengo.Probe(model.cortex.output, synapse=0.01)\n",
      "    vision = nengo.Probe(model.vision.output, synapse=0.01)\n",
      "    actions = nengo.Probe(model.thalamus.actions.output, synapse=0.01)\n",
      "    utility = nengo.Probe(model.bg.input, synapse=0.01)"
     ],
     "language": "python",
     "metadata": {},
     "outputs": []
    },
    {
     "cell_type": "heading",
     "level": 2,
     "metadata": {},
     "source": [
      "Step 4: Run the model"
     ]
    },
    {
     "cell_type": "code",
     "collapsed": false,
     "input": [
      "# Create the simulator object\n",
      "with nengo.Simulator(model) as sim:\n",
      "    # Simulate the model for 0.5 seconds\n",
      "    sim.run(0.5)"
     ],
     "language": "python",
     "metadata": {},
     "outputs": []
    },
    {
     "cell_type": "heading",
     "level": 2,
     "metadata": {},
     "source": [
      "Step 5: Plot the results"
     ]
    },
    {
     "cell_type": "code",
     "collapsed": false,
     "input": [
      "fig = plt.figure(figsize=(12,8))\n",
      "p1 = fig.add_subplot(4,1,1)\n",
      "p1.plot(sim.trange(), model.similarity(sim.data, vision))\n",
      "p1.legend(model.get_output_vocab('vision').keys(), fontsize='x-small')\n",
      "p1.set_ylabel('Vision')\n",
      "\n",
      "p2 = fig.add_subplot(4,1,2)\n",
      "p2.plot(sim.trange(), model.similarity(sim.data, cortex))\n",
      "p2.legend(model.get_output_vocab('cortex').keys(), fontsize='x-small')\n",
      "p2.set_ylabel('Cortex')\n",
      "\n",
      "p3 = fig.add_subplot(4,1,3)\n",
      "p3.plot(sim.trange(), sim.data[actions])\n",
      "p3.set_ylabel('Action')\n",
      "\n",
      "p4 = fig.add_subplot(4,1,4)\n",
      "p4.plot(sim.trange(), sim.data[utility])\n",
      "p4.set_ylabel('Utility')\n",
      "\n",
      "fig.subplots_adjust(hspace=0.2)"
     ],
     "language": "python",
     "metadata": {},
     "outputs": []
    }
   ],
   "metadata": {}
  }
 ]
}
