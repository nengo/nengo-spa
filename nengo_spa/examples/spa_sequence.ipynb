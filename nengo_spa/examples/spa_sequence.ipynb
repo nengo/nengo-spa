{
 "metadata": {
  "kernelspec": {
   "display_name": "Python 3",
   "language": "python",
   "name": "python3"
  },
  "language_info": {
   "codemirror_mode": {
    "name": "ipython",
    "version": 3
   },
   "file_extension": ".py",
   "mimetype": "text/x-python",
   "name": "python",
   "nbconvert_exporter": "python",
   "pygments_lexer": "ipython3",
   "version": "3.6.3"
  },
  "name": ""
 },
 "nbformat": 3,
 "nbformat_minor": 0,
 "worksheets": [
  {
   "cells": [
    {
     "cell_type": "heading",
     "level": 1,
     "metadata": {},
     "source": [
      "Nengo example: Routing through a sequence"
     ]
    },
    {
     "cell_type": "markdown",
     "metadata": {},
     "source": [
      "This demo uses the basal ganglia model to cycle through a sequence of five representations. The model incorporates a memory, which allows the basal ganglia to update that memory based on a set of condition/action mappings. The mappings are defined in the code such that A$\\rightarrow$B, B$\\rightarrow$C, etc. until E$\\rightarrow$A completing a loop. \n",
      "\n",
      "When you run this demo, the sequence will be repeated indefinitely. It is interesting to note the time between the \u2018peaks\u2019 of the selected items. It's about 40ms for this simple action."
     ]
    },
    {
     "cell_type": "code",
     "collapsed": false,
     "input": [
      "# Setup for the notebook\n",
      "import matplotlib.pyplot as plt\n",
      "%matplotlib inline\n",
      "\n",
      "import nengo\n",
      "import nengo_spa as spa"
     ],
     "language": "python",
     "metadata": {},
     "outputs": [],
     "prompt_number": 2
    },
    {
     "cell_type": "heading",
     "level": 2,
     "metadata": {},
     "source": [
      "Step 1: Create the model"
     ]
    },
    {
     "cell_type": "markdown",
     "metadata": {},
     "source": [
      "Notice that when you specify actions, you're determining which modules are connected to which.  For example, by having a mapping that depends on the state of cortex, you are determining that the cortex and basal ganglia must be connected.  As well, when you specify that the result of the action changes the state of cortex, then you are determining that thalamus must be connected to cortex."
     ]
    },
    {
     "cell_type": "code",
     "collapsed": false,
     "input": [
      "def start(t):\n",
      "    \"\"\"Set initial state for model\"\"\"\n",
      "    if t < 0.05:\n",
      "        return 'A'\n",
      "    else:\n",
      "        return '0'\n",
      "\n",
      "# Number of dimensions for the Semantic Pointers\n",
      "dimensions = 16\n",
      "\n",
      "# Make a model object with the SPA network\n",
      "model = spa.Network(label='Sequence_Network')\n",
      "\n",
      "with model:\n",
      "    # Specify the modules to be used\n",
      "    model.input = spa.Transcode(start, output_vocab=dimensions)\n",
      "    model.cortex = spa.State(dimensions)\n",
      "    # Specify the action mapping\n",
      "    with spa.ActionSelection() as action_sel:\n",
      "        spa.ifmax(spa.dot(model.cortex, spa.sym.A),\n",
      "            spa.sym.B >> model.cortex)\n",
      "        spa.ifmax(spa.dot(model.cortex, spa.sym.B),\n",
      "            spa.sym.C >> model.cortex)\n",
      "        spa.ifmax(spa.dot(model.cortex, spa.sym.C),\n",
      "            spa.sym.D >> model.cortex)\n",
      "        spa.ifmax(spa.dot(model.cortex, spa.sym.D),\n",
      "            spa.sym.E >> model.cortex)\n",
      "        spa.ifmax(spa.dot(model.cortex, spa.sym.E),\n",
      "            spa.sym.A >> model.cortex)"
     ],
     "language": "python",
     "metadata": {},
     "outputs": [],
     "prompt_number": 3
    },
    {
     "cell_type": "heading",
     "level": 2,
     "metadata": {},
     "source": [
      "Step 3: Probe the output"
     ]
    },
    {
     "cell_type": "code",
     "collapsed": false,
     "input": [
      "with model:\n",
      "    cortex = nengo.Probe(model.cortex.output, synapse=0.01)\n",
      "    selected_actions = nengo.Probe(action_sel.thalamus.output, synapse=0.01)\n",
      "    utility = nengo.Probe(action_sel.bg.input, synapse=0.01)"
     ],
     "language": "python",
     "metadata": {},
     "outputs": [],
     "prompt_number": 4
    },
    {
     "cell_type": "heading",
     "level": 2,
     "metadata": {},
     "source": [
      "Step 4: Run the model"
     ]
    },
    {
     "cell_type": "code",
     "collapsed": false,
     "input": [
      "with nengo.Simulator(model) as sim:\n",
      "    sim.run(0.5)"
     ],
     "language": "python",
     "metadata": {},
     "outputs": [],
     "prompt_number": 5
    },
    {
     "cell_type": "heading",
     "level": 2,
     "metadata": {},
     "source": [
      "Step 5: Plot the results"
     ]
    },
    {
     "cell_type": "markdown",
     "metadata": {},
     "source": [
      "Plot the results of the simulation. The first figure shows the semantic pointer representation of the values stored in the \"cortex\" module. The second figure shows the actions being executed, and the third figure shows the utility (similarity) of the cortex representation to the conditions of each action."
     ]
    },
    {
     "cell_type": "code",
     "collapsed": false,
     "input": [
      "vocab = model.vocabs[dimensions]\n",
      "\n",
      "fig = plt.figure(figsize=(12,8))\n",
      "p1 = fig.add_subplot(3,1,1)\n",
      "\n",
      "p1.plot(sim.trange(), spa.similarity(sim.data[cortex], vocab))\n",
      "p1.legend(vocab.keys(), fontsize='x-small')\n",
      "p1.set_ylabel('State')\n",
      "\n",
      "p2 = fig.add_subplot(3,1,2)\n",
      "p2.plot(sim.trange(), sim.data[selected_actions])\n",
      "# FIXME: p2_legend_txt = [str(a.effects) for a in actions[0].actions]\n",
      "# p2.legend(p2_legend_txt, fontsize='x-small')\n",
      "p2.set_ylabel('Action')\n",
      "\n",
      "p3 = fig.add_subplot(3,1,3)\n",
      "p3.plot(sim.trange(), sim.data[utility])\n",
      "# FIXME: p3_legend_txt = [str(a.condition) for a in actions[0].actions]\n",
      "# p3.legend(p3_legend_txt, fontsize='x-small')\n",
      "p3.set_ylabel('Utility')\n",
      "\n",
      "fig.subplots_adjust(hspace=0.2)"
     ],
     "language": "python",
     "metadata": {},
     "outputs": [],
     "prompt_number": 12
    }
   ],
   "metadata": {}
  }
 ]
}

