{
 "cells": [
  {
   "cell_type": "markdown",
   "metadata": {},
   "source": [
    "# Vocabulary casting\n",
    "\n",
    "Consider this SPA model:"
   ]
  },
  {
   "cell_type": "code",
   "execution_count": null,
   "metadata": {
    "collapsed": false
   },
   "outputs": [],
   "source": [
    "%matplotlib inline\n",
    "%load_ext nengo.ipynb\n",
    "\n",
    "import matplotlib.pyplot as plt\n",
    "\n",
    "import nengo\n",
    "import nengo_spa as spa"
   ]
  },
  {
   "cell_type": "code",
   "execution_count": null,
   "metadata": {
    "collapsed": false
   },
   "outputs": [],
   "source": [
    "d = 16\n",
    "vocab1 = spa.Vocabulary(16)\n",
    "vocab2 = spa.Vocabulary(16)\n",
    "\n",
    "with spa.Network() as model:\n",
    "    state1 = spa.State(vocab=vocab1)\n",
    "    state2 = spa.State(vocab=vocab2)"
   ]
  },
  {
   "cell_type": "markdown",
   "metadata": {},
   "source": [
    "In this model `state1` and `state2` are assigned to different and independent vocabularies. This means we cannot simply connect `state1` and `state2` in SPA actions because Nengo cannot know how to transform (\"cast\") from one vocabulary to the other vocabulary. We are required to tell Nengo how we want to do this cast. Currently there two methods implemented."
   ]
  },
  {
   "cell_type": "markdown",
   "metadata": {},
   "source": [
    "## Reinterpretation\n",
    "\n",
    "The `reinterpret` method can only be used with vocabularies of the same dimension. It will not change the semantic pointer passed from one state to the other, but changes it interpretation."
   ]
  },
  {
   "cell_type": "code",
   "execution_count": null,
   "metadata": {
    "collapsed": false
   },
   "outputs": [],
   "source": [
    "d1 = 16\n",
    "d2 = 16\n",
    "vocab1 = spa.Vocabulary(d1)\n",
    "vocab1.populate('A')\n",
    "vocab2 = spa.Vocabulary(d2)\n",
    "vocab2.populate('A')\n",
    "\n",
    "with spa.Network() as model:\n",
    "    state1 = spa.State(vocab=vocab1)\n",
    "    state2 = spa.State(vocab=vocab2)\n",
    "    spa.Actions('A -> state1; reinterpret(state1) -> state2')\n",
    "    \n",
    "    p = nengo.Probe(state2.output, synapse=0.03)"
   ]
  },
  {
   "cell_type": "code",
   "execution_count": null,
   "metadata": {
    "collapsed": true
   },
   "outputs": [],
   "source": [
    "with nengo.Simulator(model) as sim:\n",
    "    sim.run(0.5)"
   ]
  },
  {
   "cell_type": "code",
   "execution_count": null,
   "metadata": {
    "collapsed": false
   },
   "outputs": [],
   "source": [
    "plt.plot(sim.trange(), spa.similarity(sim.data[p], vocab1), label='vocab1')\n",
    "plt.plot(sim.trange(), spa.similarity(sim.data[p], vocab2), label='vocab2')\n",
    "plt.xlabel(\"Time [s]\")\n",
    "plt.ylabel(\"Similarity\")\n",
    "plt.legend(loc='best')"
   ]
  },
  {
   "cell_type": "markdown",
   "metadata": {},
   "source": [
    "## Translation\n",
    "\n",
    "Translation matches the vocabularies by the keys and uses the outer product of the corresponding semantic pointers as a transformation matrix to transform vectors from one vocabulary to another vocabulary. This works also with vocabularies of differing dimensionality."
   ]
  },
  {
   "cell_type": "code",
   "execution_count": null,
   "metadata": {
    "collapsed": false
   },
   "outputs": [],
   "source": [
    "d1 = 16\n",
    "d2 = 32\n",
    "vocab1 = spa.Vocabulary(d1)\n",
    "vocab1.populate('A')\n",
    "vocab2 = spa.Vocabulary(d2)\n",
    "vocab2.populate('A')\n",
    "\n",
    "with spa.Network() as model:\n",
    "    state1 = spa.State(vocab=vocab1)\n",
    "    state2 = spa.State(vocab=vocab2)\n",
    "    spa.Actions('A -> state1; translate(state1) -> state2')\n",
    "    \n",
    "    p = nengo.Probe(state2.output, synapse=0.03)"
   ]
  },
  {
   "cell_type": "code",
   "execution_count": null,
   "metadata": {
    "collapsed": true
   },
   "outputs": [],
   "source": [
    "with nengo.Simulator(model) as sim:\n",
    "    sim.run(0.5)"
   ]
  },
  {
   "cell_type": "code",
   "execution_count": null,
   "metadata": {
    "collapsed": false
   },
   "outputs": [],
   "source": [
    "plt.plot(sim.trange(), spa.similarity(sim.data[p], vocab2), label='vocab2')\n",
    "plt.xlabel(\"Time [s]\")\n",
    "plt.ylabel(\"Similarity\")\n",
    "plt.legend(loc='best')"
   ]
  },
  {
   "cell_type": "markdown",
   "metadata": {},
   "source": [
    "## Further options\n",
    "\n",
    "Both `translate` and `reinterpret` try to infer the target vocabularies, but this might not be possible in all cases. Thus, both functions take an additional argument which can either be a SPA module or a vocabulary. If it is a SPA module (e.g., `translate(state1, state2)`), that module's vocabulary will be used as target vocabulary. If it is a vocabulary, the given vocabulary will be used as target vocabulary (e.g., `translate(state1, vocab2)`). Note that in the latter case a dictionary specifying the names and vocabularies has to be passed as the `vocabs` argument to the `Actions` instance like so: `Actions('translate(state1, vocab2) -> state2')`.\n",
    "\n",
    "Note that you can give the second argument to `translate` and `reinterpret` also as a keyword argument (e.g., `translate(state1, vocab=state2)`."
   ]
  }
 ],
 "metadata": {
  "kernelspec": {
   "display_name": "nengodev",
   "language": "python",
   "name": "nengodev"
  },
  "language_info": {
   "codemirror_mode": {
    "name": "ipython",
    "version": 2
   },
   "file_extension": ".py",
   "mimetype": "text/x-python",
   "name": "python",
   "nbconvert_exporter": "python",
   "pygments_lexer": "ipython2",
   "version": "2.7.11"
  }
 },
 "nbformat": 4,
 "nbformat_minor": 0
}
