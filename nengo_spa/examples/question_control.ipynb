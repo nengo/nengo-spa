{
 "metadata": {
  "kernelspec": {
   "display_name": "Python 3",
   "language": "python",
   "name": "python3"
  },
  "language_info": {
   "codemirror_mode": {
    "name": "ipython",
    "version": 3
   },
   "file_extension": ".py",
   "mimetype": "text/x-python",
   "name": "python",
   "nbconvert_exporter": "python",
   "pygments_lexer": "ipython3",
   "version": "3.6.1"
  },
  "name": ""
 },
 "nbformat": 3,
 "nbformat_minor": 0,
 "worksheets": [
  {
   "cells": [
    {
     "cell_type": "markdown",
     "metadata": {},
     "source": [
      "# Nengo example: Controlled question answering\n",
      "\n",
      "This demo implements a simple form of question answering by using the basal ganglia to store and retrieve information from working memory in response to visual input. More specifically, the basal ganglia decides what to do with the information in the visual channel based on its content (i.e. whether it is a statement or a question)\n",
      "\n",
      "When you run the network, it will start by binding `RED` and `CIRCLE` and then binding `BLUE` and `SQUARE` so the memory essentially has `RED * CIRCLE + BLUE * SQUARE`. It does this because it is told that `RED * CIRCLE` is a STATEMENT (i.e. `RED * CIRCLE + STATEMENT` in the code) as is `BLUE * SQUARE`. Then it is presented with something like `QUESTION + RED` (i.e., \"What is red?\"). The basal ganglia then reroutes that input to be compared to what is in working memory and the result shows up in the motor channel."
     ]
    },
    {
     "cell_type": "code",
     "collapsed": true,
     "input": [
      "# Setup for the notebook\n",
      "import matplotlib.pyplot as plt\n",
      "%matplotlib inline\n",
      "\n",
      "import nengo\n",
      "import nengo_spa as spa"
     ],
     "language": "python",
     "metadata": {},
     "outputs": [],
     "prompt_number": 2
    },
    {
     "cell_type": "markdown",
     "metadata": {},
     "source": [
      "## Create the model\n",
      "\n",
      "Notice that when you specify actions, you're determining which modules are connected to which. For example, by having a mapping that depends on the state of cortex, you are determining that the cortex and basal ganglia must be connected. As well, when you specify that the result of the action changes the state of cortex, then you are determining that thalamus must be connected to cortex."
     ]
    },
    {
     "cell_type": "code",
     "collapsed": true,
     "input": [
      "def input_fn(t):\n",
      "    if 0.1 < t < 0.3:\n",
      "        return 'STATEMENT+RED*CIRCLE'\n",
      "    elif 0.35 < t < 0.5:\n",
      "        return 'STATEMENT+BLUE*SQUARE'\n",
      "    elif 0.55 < t < 0.7:\n",
      "        return 'QUESTION+RED'\n",
      "    elif 0.75 < t < 0.9:\n",
      "        return 'QUESTION+BLUE'\n",
      "    else:\n",
      "        return '0'\n",
      "\n",
      "# Number of dimensions for the Semantic Pointers\n",
      "dimensions = 128\n",
      "\n",
      "# Number of neurons to represent each dimension\n",
      "# Higher number for more accurate representation\n",
      "n_per_dim = 100\n",
      "\n",
      "# Make a model object with the SPA network\n",
      "model = spa.Network(label='Controlled_Question_Answering')\n",
      "\n",
      "with model:\n",
      "    # Specify the modules to be used\n",
      "    model.vision = spa.Transcode(input_fn, output_vocab=dimensions)\n",
      "    model.motor = spa.State(dimensions, neurons_per_dimension=n_per_dim)\n",
      "    model.memory = spa.State(dimensions, neurons_per_dimension=n_per_dim,\n",
      "                             feedback=1., feedback_synapse=0.1)\n",
      "    \n",
      "    # Specify the action mapping\n",
      "    actions = spa.Actions('''\n",
      "        ifmax dot(model.vision, STATEMENT):\n",
      "            model.vision -> model.memory\n",
      "        elifmax dot(model.vision, QUESTION):\n",
      "             ~model.vision*model.memory -> model.motor\n",
      "    ''')"
     ],
     "language": "python",
     "metadata": {},
     "outputs": [],
     "prompt_number": 3
    },
    {
     "cell_type": "heading",
     "level": 2,
     "metadata": {},
     "source": [
      "Probe the output"
     ]
    },
    {
     "cell_type": "code",
     "collapsed": false,
     "input": [
      "with model:\n",
      "    vision = nengo.Probe(model.vision.output, synapse=0.03)\n",
      "    motor = nengo.Probe(model.motor.output, synapse=0.03)\n",
      "    memory = nengo.Probe(model.memory.output, synapse=0.03)\n",
      "    actions = nengo.Probe(model.thalamus.actions.output, synapse=0.01)\n",
      "    utility = nengo.Probe(model.bg.input, synapse=0.01)"
     ],
     "language": "python",
     "metadata": {},
     "outputs": [],
     "prompt_number": 4
    },
    {
     "cell_type": "heading",
     "level": 2,
     "metadata": {},
     "source": [
      "Run the model"
     ]
    },
    {
     "cell_type": "code",
     "collapsed": true,
     "input": [
      "# Create the simulator object\n",
      "with nengo.Simulator(model) as sim:\n",
      "    # Simulate the model for 1.2 seconds\n",
      "    sim.run(1.2)"
     ],
     "language": "python",
     "metadata": {},
     "outputs": [],
     "prompt_number": null
    },
    {
     "cell_type": "heading",
     "level": 2,
     "metadata": {},
     "source": [
      "Plot the results"
     ]
    },
    {
     "cell_type": "code",
     "collapsed": true,
     "input": [
      "fig = plt.figure(figsize=(12,8))\n",
      "p1 = fig.add_subplot(5,1,1)\n",
      "p1.plot(sim.trange(), spa.similarity(sim.data[vision], vocab))\n",
      "p1.legend(vocab.keys(), fontsize='x-small')\n",
      "p1.set_ylabel('vision')\n",
      "\n",
      "p2 = fig.add_subplot(5,1,2)\n",
      "p2.plot(sim.trange(), spa.similarity(sim.data[memory], vocab))\n",
      "p2.legend(vocab.keys(), fontsize='x-small')\n",
      "p2.set_ylabel('memory')\n",
      "\n",
      "p3 = fig.add_subplot(5,1,3)\n",
      "p3.plot(sim.trange(), spa.similarity(sim.data[motor], vocab))\n",
      "p3.legend(vocab.keys(), fontsize='x-small')\n",
      "p3.set_ylabel('motor')\n",
      "\n",
      "p4 = fig.add_subplot(5,1,4)\n",
      "p4.plot(sim.trange(), sim.data[actions])\n",
      "p4.set_ylabel('action')\n",
      "\n",
      "p5 = fig.add_subplot(5,1,5)\n",
      "p5.plot(sim.trange(), sim.data[utility])\n",
      "p5.set_ylabel('utility')\n",
      "p5.set_xlabel('time [s]')\n",
      "\n",
      "fig.subplots_adjust(hspace=0.2)"
     ],
     "language": "python",
     "metadata": {},
     "outputs": [],
     "prompt_number": null
    }
   ],
   "metadata": {}
  }
 ]
}

