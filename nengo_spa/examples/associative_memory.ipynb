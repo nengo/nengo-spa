{
 "metadata": {
  "kernelspec": {
   "display_name": "nengodev",
   "language": "python",
   "name": "nengodev"
  },
  "language_info": {
   "codemirror_mode": {
    "name": "ipython",
    "version": 3
   },
   "file_extension": ".py",
   "mimetype": "text/x-python",
   "name": "python",
   "nbconvert_exporter": "python",
   "pygments_lexer": "ipython3",
   "version": "3.5.2"
  },
  "name": "",
  "widgets": {
   "state": {
    "0445f22a76dc4f01a89dfddae80b7fad": {
     "views": [
      {
       "cell_index": 13
      }
     ]
    },
    "18e86863f25c47c280d02ea531d09941": {
     "views": [
      {
       "cell_index": 25
      }
     ]
    },
    "1a2e1dab5fe8460889da87c4cf350389": {
     "views": [
      {
       "cell_index": 17
      }
     ]
    },
    "1affa42b48664a068a021b617c2e1499": {
     "views": [
      {
       "cell_index": 5
      }
     ]
    },
    "1f0f87572aa64eb09489f9eea2a98418": {
     "views": [
      {
       "cell_index": 28
      }
     ]
    },
    "32d52b08b92d4ab3865445b7a8b54e6f": {
     "views": [
      {
       "cell_index": 13
      }
     ]
    },
    "424302a0262442e9abf630ceb7add409": {
     "views": [
      {
       "cell_index": 19
      }
     ]
    },
    "6849532ef860432987ec57e610d2deff": {
     "views": [
      {
       "cell_index": 19
      }
     ]
    },
    "79c84935d02342dea5a1a9fc4786f201": {
     "views": [
      {
       "cell_index": 28
      }
     ]
    },
    "7c2fb781023d424b916ae13f64b5157c": {
     "views": [
      {
       "cell_index": 19
      }
     ]
    },
    "87d635d2f8564f829f9eadac1a09a695": {
     "views": [
      {
       "cell_index": 25
      }
     ]
    },
    "a26b90f4704842308747cf689fa8ef0e": {
     "views": [
      {
       "cell_index": 5
      }
     ]
    },
    "ac8f03b32aaf4dd78859f7e48063c3fb": {
     "views": [
      {
       "cell_index": 25
      }
     ]
    },
    "f68b8d4d9fed47ca804cfc10fbcbd60c": {
     "views": [
      {
       "cell_index": 17
      }
     ]
    }
   },
   "version": "1.2.0"
  }
 },
 "nbformat": 3,
 "nbformat_minor": 0,
 "worksheets": [
  {
   "cells": [
    {
     "cell_type": "markdown",
     "metadata": {},
     "source": [
      "# Associative Memory\n",
      "\n",
      "This tutorial introduces the Associative Memory (AM) module in the SPA.\n",
      "\n",
      "An associative memory is a neural network used to store and recall patterns.\n",
      "When the network receives a partial or noisy pattern at the input, it can either recover the same pattern or recall another stored pattern. \n",
      "If the recovered pattern is the same as the input pattern, the memory is said to be autoassociative or a *clean-up* memory. Otherwise, if the recovered pattern is different from the presented one, the network is heteroassociative. \n",
      "\n",
      "Patterns stored by the AM module in the SPA are semantic pointers organised in a SPA vocabulary.\n",
      "The examples in this tutorial demonstrate how to use the AM module to store and recall patterns.\n",
      "Advanced functionality of the module, such as the recall of multiple memories similar to the input, is also presented.\n",
      "\n",
      "A theoretical explanation on how the associative memory is implemented in NEF is available in [Stewart et al. 2010](http://compneuro.uwaterloo.ca/files/publications/stewart.2011.pdf)."
     ]
    },
    {
     "cell_type": "code",
     "collapsed": false,
     "input": [
      "import numpy as np\n",
      "import matplotlib.pyplot as plt\n",
      "%matplotlib inline\n",
      "\n",
      "import nengo\n",
      "import nengo_spa as spa\n",
      "%load_ext nengo.ipynb"
     ],
     "language": "python",
     "metadata": {},
     "outputs": [],
     "prompt_number": 1
    },
    {
     "cell_type": "markdown",
     "metadata": {},
     "source": [
      "## Step 1: Creating an Associative Memory\n",
      "\n",
      "We start by creating a set of patterns the AM will store. \n",
      "The vocabulary in this example contains five words: `ORANGE, APRICOT, CHERRY, STRAWBERRY` and `APPLE`.\n",
      "Each word is represented as a semantic pointer, an $n$-dimensional vector.\n",
      "When creating a vocabulary, we specify the number of dimensions for all semantic pointers.\n",
      "Then, we add the words to the vocabulary with `parse`:"
     ]
    },
    {
     "cell_type": "code",
     "collapsed": false,
     "input": [
      "dim = 32\n",
      "vocab = spa.Vocabulary(dimensions=dim)\n",
      "\n",
      "words = ['ORANGE', 'APRICOT', 'CHERRY', 'STRAWBERRY', 'APPLE']\n",
      "\n",
      "for word in words:\n",
      "    vocab.populate(word)"
     ],
     "language": "python",
     "metadata": {},
     "outputs": [],
     "prompt_number": 2
    },
    {
     "cell_type": "markdown",
     "metadata": {},
     "source": [
      "Next, we create an autoassociative memory with a corresponding set of stored patterns.\n",
      "To check the functionality of the memory module, we want to test whether the pattern at the input has been successfully retrieved at the output.\n",
      "\n",
      "The memory is created within a `spa.Network` module.\n",
      "Using the `spa.Transcode` module we set the name of the semantic pointer `APPLE` as the input to the associative memory. \n",
      "`nengo.Probe`s have been added to record inputs and outputs of the module, which we plot for visual inspection.\n",
      "Finally, we run the simulation for the 0.2 seconds simulation time."
     ]
    },
    {
     "cell_type": "code",
     "collapsed": false,
     "input": [
      "with spa.Network('AssociativeMemory', seed=1) as model_1:\n",
      "    # create the AM module\n",
      "    model_1.assoc_mem = spa.ThresholdingAssocMem(threshold=0.3, input_vocab=vocab)\n",
      "\n",
      "    # present input to the AM\n",
      "    spa.Actions('APPLE -> model_1.assoc_mem')\n",
      "\n",
      "    # record the inputs and outputs during the simulation\n",
      "    input_probe = nengo.Probe(model_1.assoc_mem.input)\n",
      "    output_probe = nengo.Probe(model_1.assoc_mem.output, synapse=0.03)\n",
      "\n",
      "with nengo.Simulator(model_1) as sim:\n",
      "    sim.run(0.2)\n",
      "t = sim.trange()"
     ],
     "language": "python",
     "metadata": {},
     "outputs": [],
     "prompt_number": 3
    },
    {
     "cell_type": "markdown",
     "metadata": {},
     "source": [
      "We gather the simulation data:"
     ]
    },
    {
     "cell_type": "code",
     "collapsed": false,
     "input": [
      "input_data = sim.data[input_probe]\n",
      "output_data = sim.data[output_probe]\n",
      "print(\"Input dimensions: (%d, %d)\" % input_data.shape)\n",
      "print(\"Output dimensions: (%d, %d)\" % output_data.shape)"
     ],
     "language": "python",
     "metadata": {},
     "outputs": [],
     "prompt_number": 4
    },
    {
     "cell_type": "markdown",
     "metadata": {},
     "source": [
      "We use a dot product (implemented in `nengo.spa.similarity`) to compare the similarity of inputs and outputs to all patterns in the vocabulary at every time step. Recall that the first dimension corresponds to the number of time steps and the second dimension to the 32-dimensional pattern represented in the associative memory.\n",
      "If the similarity between the output vector and the input vector is close to one, we can say that the associative memory successfully retrieved the pattern (or cleaned up the input)."
     ]
    },
    {
     "cell_type": "code",
     "collapsed": true,
     "input": [
      "def plot_similarities(input_data, output_data, vocab1, vocab2=None, autoscale=False):\n",
      "    if vocab2 is None:\n",
      "        vocab2 = vocab1\n",
      "    \n",
      "    ymin, ymax = -1.2, 1.2    \n",
      "    plt.figure(figsize=(12, 4))\n",
      "    plt.subplot(1, 2, 1)\n",
      "    plt.ylim(ymin, ymax)\n",
      "    if autoscale:\n",
      "        plt.autoscale(autoscale, axis='y')\n",
      "    plt.grid(True)\n",
      "    plt.plot(t, spa.similarity(input_data, vocab1))\n",
      "    plt.title(\"Input similarity\")\n",
      "    plt.xlabel(\"Time\")\n",
      "    plt.xlim(right=t[-1])\n",
      "    plt.legend(vocab1.keys(), loc='upper center',\n",
      "               bbox_to_anchor=(0.5, -0.13), ncol=3)\n",
      "    \n",
      "    plt.subplot(1, 2, 2)\n",
      "    plt.plot(t, spa.similarity(output_data, vocab2))\n",
      "    plt.title(\"Output similarity\")\n",
      "    plt.xlabel(\"Time\")\n",
      "    plt.xlim(right=t[-1])\n",
      "    plt.ylim(ymin, ymax)\n",
      "    if autoscale:\n",
      "        plt.autoscale(autoscale, axis='y')\n",
      "    plt.grid(True)\n",
      "    plt.legend(vocab2.keys(), loc='upper center',\n",
      "               bbox_to_anchor=(0.5, -0.13), ncol=3)\n",
      "    plt.tight_layout()"
     ],
     "language": "python",
     "metadata": {},
     "outputs": [],
     "prompt_number": 5
    },
    {
     "cell_type": "code",
     "collapsed": false,
     "input": [
      "plot_similarities(input_data, output_data, vocab)"
     ],
     "language": "python",
     "metadata": {},
     "outputs": [],
     "prompt_number": 6
    },
    {
     "cell_type": "markdown",
     "metadata": {
      "collapsed": true
     },
     "source": [
      "We see that the network input has been constant throughout the simulation (`APPLE=1`). Notice that there might be some small similarity between the pattern `APPLE` and some other patterns. This is because the semantic pointers are not perfectly orthogonal and the dot product will amount to some value different from zero. This can be improved by increasing the dimensionality of vectors, yielding more orthogonal representations.\n",
      "At the output, the similarity of the represented semantic pointer with the semantic pointer `APPLE` increases until it reaches the maximal value (`=1`). This means that the associative memory successfully retrieved the input pattern. The exponential increase is due to the synaptic filtering in `nengo.Probe`. This is used to show how the input to another group of neurons connected to the output of this particular AM module would look like.\n"
     ]
    },
    {
     "cell_type": "markdown",
     "metadata": {},
     "source": [
      "## Step 2: Clean-up Memory\n",
      "\n",
      "\n",
      "In the next example, we show the ability of the associative memory to retrieve a clean pattern from a noisy input. \n",
      "This is a very common use of autoassociative memories, also called *clean-up* as the AM removes the noise in the input.\n",
      "\n",
      "Now, we construct a noisy semantic pointer using a combination of several semantic pointers. This is done by passing the expression `0.9*APPLE+0.5*CHERRY+0.4*APRICOT` as the input to the the network.\n",
      "The resulting input vector will still be mostly similar to one semantic pointer (`APPLE`) but is also somewhat similar to other semantic pointers in the vocabulary. Therefore, the task of the network will be to clean up the vector `APPLE`.\n",
      "One way to achieve this in SPA is by using the thresholding mechanism in the AM module. By default, the threshold in `spa.AssociativeMemory` is set to 0.3, assuming that random noise fluctuations in the input should not be contained at the output of the network. \n",
      "By specifying the threshold, the output will be similar only to those inputs whose similarity with a vocabulary item is above a certain value. In this example we will increase the selectivity of the AM by setting the threshold to to a higher value: "
     ]
    },
    {
     "cell_type": "code",
     "collapsed": false,
     "input": [
      "with spa.Network('CleanupThreshold', seed=1) as model_3:\n",
      "    model_3.assoc_mem = spa.ThresholdingAssocMem(threshold=0.7, input_vocab=vocab)\n",
      "    \n",
      "    input_expr = '0.9*APPLE + 0.5*CHERRY + 0.4*APRICOT'\n",
      "    spa.Actions(input_expr + ' -> model_3.assoc_mem')\n",
      "\n",
      "    input_probe = nengo.Probe(model_3.assoc_mem.input)\n",
      "    output_probe = nengo.Probe(model_3.assoc_mem.output, synapse=0.03)\n",
      "\n",
      "with nengo.Simulator(model_3) as sim:\n",
      "    sim.run(0.2)\n",
      "t = sim.trange()\n",
      "\n",
      "input_data = sim.data[input_probe]\n",
      "output_data = sim.data[output_probe]\n",
      "\n",
      "plot_similarities(input_data, output_data, vocab)"
     ],
     "language": "python",
     "metadata": {},
     "outputs": [],
     "prompt_number": 7
    },
    {
     "cell_type": "markdown",
     "metadata": {},
     "source": [
      "We see that the vector at the input is mostly similar to the semantic pointer `APPLE` and somewhat similar to the semantic pointer `CHERRY`.\n",
      "The vector at the output is very similar to the `APPLE`, indicating that the memory successfully cleaned up the noisy pattern. We can indicate that we want to completely recover the pattern at the output by setting the parameter `threshold_output` to `True`. This will produce a vector at the output which has similarity one with the semantic pointer `APPLE`. "
     ]
    },
    {
     "cell_type": "markdown",
     "metadata": {},
     "source": [
      "In some modelling scenarios we might have an input vector which is very similar to several other vectors in the vocabulary:"
     ]
    },
    {
     "cell_type": "code",
     "collapsed": false,
     "input": [
      "with spa.Network('Cleanup', seed=1) as model_2:\n",
      "    model_2.assoc_mem = spa.ThresholdingAssocMem(threshold=0.3, input_vocab=vocab)\n",
      "    \n",
      "    # noisy input\n",
      "    input_expr = '0.9*APPLE + 0.85*CHERRY + 0.7*APRICOT'\n",
      "    spa.Actions(input_expr + ' -> model_2.assoc_mem')\n",
      "    \n",
      "    input_probe = nengo.Probe(model_2.assoc_mem.input)\n",
      "    output_probe = nengo.Probe(model_2.assoc_mem.output, synapse=0.03)"
     ],
     "language": "python",
     "metadata": {},
     "outputs": [],
     "prompt_number": 8
    },
    {
     "cell_type": "code",
     "collapsed": false,
     "input": [
      "with nengo.Simulator(model_2) as sim:\n",
      "    sim.run(0.2)\n",
      "t = sim.trange()\n",
      "\n",
      "input_data = sim.data[input_probe]\n",
      "output_data = sim.data[output_probe]\n",
      "\n",
      "plot_similarities(input_data, output_data, vocab)"
     ],
     "language": "python",
     "metadata": {
      "scrolled": true
     },
     "outputs": [],
     "prompt_number": 9
    },
    {
     "cell_type": "markdown",
     "metadata": {},
     "source": [
      "We see that the input is very similar to semantic pointers `APPLE`, `CHERRY` and somewhat similar to `APRICOT`.\n",
      "In this situation, it might be difficult to determine a fixed threshold which will clean up the input and differentiate between the vectors `APPLE` and `CHERRY`. To ensure that only one vector at the output is similar to the strongest input, we can set the parameter `wta_output` to `True`. `WTA` is a computational principle called winner-take-all, stating that one, mostly active element should be regarded as the winner among possible, less similar alternatives. Again, we set `threshold_output` to `True` to fully recover the pattern:"
     ]
    },
    {
     "cell_type": "code",
     "collapsed": false,
     "input": [
      "with spa.Network('CleanupThreshold', seed=1) as model_3:\n",
      "    model_3.assoc_mem = spa.WTAAssocMem(\n",
      "        threshold=0.3,\n",
      "        input_vocab=vocab,\n",
      "        function=lambda x: x > 0.)\n",
      "    \n",
      "    input_expr = '0.9*APPLE + 0.85*CHERRY + 0.7*APRICOT'\n",
      "    spa.Actions(input_expr + ' -> model_3.assoc_mem')\n",
      "\n",
      "    input_probe = nengo.Probe(model_3.assoc_mem.input)\n",
      "    output_probe = nengo.Probe(model_3.assoc_mem.output, synapse=0.03)\n",
      "\n",
      "with nengo.Simulator(model_3) as sim:\n",
      "    sim.run(0.2)\n",
      "t = sim.trange()\n",
      "\n",
      "input_data = sim.data[input_probe]\n",
      "output_data = sim.data[output_probe]\n",
      "\n",
      "plot_similarities(input_data, output_data, vocab)"
     ],
     "language": "python",
     "metadata": {},
     "outputs": [],
     "prompt_number": 15
    },
    {
     "cell_type": "markdown",
     "metadata": {},
     "source": [
      "Although the input vector is very similar to both `APPLE` and `CHERRY`, the memory manages to recover the `APPLE` at the output."
     ]
    },
    {
     "cell_type": "markdown",
     "metadata": {},
     "source": [
      "## Step 3: Heteroassociative relationships\n",
      "\n",
      "To model a variety of interesting memory phenomena, it is often useful to store relationships between different sets of patterns.\n",
      "For example, to simulate number counting from 1 to 5, the memory needs to store the relationships between patterns representing numbers:\n",
      "$1\\rightarrow2,\\ 2\\rightarrow3,\\ 3\\rightarrow4,\\ 4\\rightarrow5$\n",
      "\n",
      "In this example we show how to use `spa.AssociativeMemory` to this task. In order to achieve the number counting, we will split the task into two parts:\n",
      "\n",
      "1. Present a number at the input and recall a number greater by one (e.g. for `1` recall `2`, for `2` recall `3` etc.)\n",
      "    \n",
      "2. Feed the output of the associative memory back to its input\n",
      "\n",
      "    \n",
      "As in the previous example, we start by defining a vocabulary that stores semantic pointes representing five numbers. This will be used as the input and as the output vocabulary. In case of hetero-associative memories the input and the output vocabulary can differ."
     ]
    },
    {
     "cell_type": "code",
     "collapsed": false,
     "input": [
      "dim = 16\n",
      "vocab_numbers = spa.Vocabulary(dimensions=dim)\n",
      "\n",
      "# a quicker way to add words to a vocabulary\n",
      "vocab_numbers.populate('ONE; TWO; THREE; FOUR; FIVE')"
     ],
     "language": "python",
     "metadata": {},
     "outputs": [],
     "prompt_number": 16
    },
    {
     "cell_type": "markdown",
     "metadata": {},
     "source": [
      "Now, in function `input_fun` we define which semantic pointer is going to be present at the input at certain simulation time. Because we want to achieve a heteroassociative mapping, we need to specify which input patterns map to which output patterns. The desired mapping in specified by providing `input_keys` and `output_keys` arguments when creating the AM  module:"
     ]
    },
    {
     "cell_type": "code",
     "collapsed": false,
     "input": [
      "def input_fun(t):\n",
      "    if t < 0.2:\n",
      "        return 'ONE'\n",
      "    elif t < 0.4:\n",
      "        return 'TWO'\n",
      "    elif t < 0.6:\n",
      "        return 'THREE'\n",
      "    elif t < 0.8:\n",
      "        return 'FOUR'\n",
      "    else:\n",
      "        return '0'\n",
      "\n",
      "# from patterns\n",
      "input_keys = ['ONE', 'TWO', 'THREE', 'FOUR']\n",
      "\n",
      "# to patterns\n",
      "output_keys = ['TWO', 'THREE', 'FOUR', 'FIVE']\n",
      "    \n",
      "with spa.Network('Counting', seed=1) as model_4:\n",
      "    model_4.assoc_mem = spa.WTAAssocMem(\n",
      "        threshold=0.3,\n",
      "        input_vocab=vocab_numbers,\n",
      "        mapping=dict(zip(input_keys, output_keys)),\n",
      "        function=lambda x: x > 0.)\n",
      "\n",
      "    model_4.am_input = spa.Transcode(input_fun, output_vocab=vocab_numbers)\n",
      "    spa.Actions('model_4.am_input -> model_4.assoc_mem')\n",
      "\n",
      "    input_probe = nengo.Probe(model_4.assoc_mem.input)\n",
      "    output_probe = nengo.Probe(model_4.assoc_mem.output, synapse=0.03)"
     ],
     "language": "python",
     "metadata": {},
     "outputs": [],
     "prompt_number": 17
    },
    {
     "cell_type": "code",
     "collapsed": false,
     "input": [
      "with nengo.Simulator(model_4) as sim:\n",
      "    sim.run(1.)\n",
      "t = sim.trange()\n",
      "\n",
      "input_data = sim.data[input_probe]\n",
      "output_data = sim.data[output_probe]\n",
      "\n",
      "plot_similarities(input_data, output_data, vocab_numbers, autoscale=True)"
     ],
     "language": "python",
     "metadata": {},
     "outputs": [],
     "prompt_number": 18
    },
    {
     "cell_type": "markdown",
     "metadata": {},
     "source": [
      "So far we have created a model which realises increments by one. The next step is to automatise this, so that when the model sees `ONE` it will produce `TWO, THREE, FOUR, FIVE`.\n",
      "To achieve counting, we need to introduce a feedback connection. That is, the network output needs to be fed into its input at the next time step. This can be easily done in Nengo by adding just one additional connection. Now, we initialise the simulation by presenting the semantic pointer `ONE` at the input for the duration of 0.2 simulation time."
     ]
    },
    {
     "cell_type": "code",
     "collapsed": false,
     "input": [
      "def input_fun(t):\n",
      "    if 0 < t < 0.2:\n",
      "        return 'ONE'\n",
      "    else:\n",
      "        return '0'\n",
      "\n",
      "with spa.Network('Counting', seed=1) as model_5:\n",
      "    model_5.assoc_mem = spa.WTAAssocMem(\n",
      "        threshold=0.3,\n",
      "        input_vocab=vocab_numbers, output_vocab=vocab_numbers,\n",
      "        mapping=dict(zip(input_keys, output_keys)),\n",
      "        function=lambda x: x > 0.)\n",
      "\n",
      "    model_5.am_input = spa.Transcode(input_fun, output_vocab=vocab_numbers)\n",
      "    spa.Actions('model_5.am_input -> model_5.assoc_mem')\n",
      "\n",
      "    # added feedback connection\n",
      "    nengo.Connection(model_5.assoc_mem.output, model_5.assoc_mem.input, synapse=.18, transform=3.3)\n",
      "    \n",
      "    input_probe = nengo.Probe(model_5.assoc_mem.input)\n",
      "    output_probe = nengo.Probe(model_5.assoc_mem.output, synapse=0.03)"
     ],
     "language": "python",
     "metadata": {},
     "outputs": [],
     "prompt_number": 20
    },
    {
     "cell_type": "code",
     "collapsed": false,
     "input": [
      "with nengo.Simulator(model_5) as sim:\n",
      "    sim.run(1.)\n",
      "t = sim.trange()\n",
      "\n",
      "input_data = sim.data[input_probe]\n",
      "output_data = sim.data[output_probe]\n",
      "\n",
      "plot_similarities(input_data, output_data, vocab_numbers, autoscale=True)"
     ],
     "language": "python",
     "metadata": {},
     "outputs": [],
     "prompt_number": 21
    },
    {
     "cell_type": "markdown",
     "metadata": {},
     "source": [
      "The only input our model receives is `ONE` at the beginning of the simulation. After that, it produces a sequence of consecutive numbers up to five. If the sequence of numbers at the output decays too quickly, try re-running all the cells in Step 3. The connection parameters `synapse` and `transform` have been set to arbitrary values which produce the desired sequence. Try modifying them to see how they affect the behaviour."
     ]
    }
   ],
   "metadata": {}
  }
 ]
}

