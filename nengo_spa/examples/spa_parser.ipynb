{
 "metadata": {
  "kernelspec": {
   "display_name": "Python 3",
   "language": "python",
   "name": "python3"
  },
  "language_info": {
   "codemirror_mode": {
    "name": "ipython",
    "version": 3
   },
   "file_extension": ".py",
   "mimetype": "text/x-python",
   "name": "python",
   "nbconvert_exporter": "python",
   "pygments_lexer": "ipython3",
   "version": "3.6.1"
  },
  "name": ""
 },
 "nbformat": 3,
 "nbformat_minor": 0,
 "worksheets": [
  {
   "cells": [
    {
     "cell_type": "heading",
     "level": 1,
     "metadata": {},
     "source": [
      "Nengo example: Parsing simple commands"
     ]
    },
    {
     "cell_type": "markdown",
     "metadata": {},
     "source": [
      "This example is a simplified version\n",
      "of the language parsing model presented in\n",
      "[Stewart & Eliasmith, 2013](http://compneuro.uwaterloo.ca/publications/stewart2013.html).\n",
      "Please refer to that paper for the high-level details."
     ]
    },
    {
     "cell_type": "code",
     "collapsed": false,
     "input": [
      "# Setup for the notebook\n",
      "import matplotlib.pyplot as plt\n",
      "%matplotlib inline\n",
      "\n",
      "import nengo\n",
      "import nengo_spa as spa"
     ],
     "language": "python",
     "metadata": {},
     "outputs": [],
     "prompt_number": 2
    },
    {
     "cell_type": "heading",
     "level": 2,
     "metadata": {},
     "source": [
      "Step 1: Create the model"
     ]
    },
    {
     "cell_type": "code",
     "collapsed": false,
     "input": [
      "sequence = 'WRITE ONE NONE WRITE TWO NONE THREE WRITE NONE'.split()\n",
      "\n",
      "def input_vision(t):\n",
      "    index = int(t / 0.5) % len(sequence)\n",
      "    return sequence[index]\n",
      "\n",
      "# Number of dimensions for the SPs\n",
      "dimensions = 64\n",
      "\n",
      "# Make a model object with the SPA network\n",
      "model = spa.Network(label='Parser')\n",
      "n_per_dim = 100\n",
      "\n",
      "with model:\n",
      "    # Specify the modules to be used\n",
      "    model.vision = spa.Transcode(input_vision, output_vocab=dimensions)\n",
      "    model.phrase = spa.State(dimensions, neurons_per_dimension=n_per_dim)\n",
      "    model.motor = spa.State(dimensions, neurons_per_dimension=n_per_dim)\n",
      "    model.noun = spa.State(dimensions, feedback=1., neurons_per_dimension=n_per_dim)\n",
      "    model.verb = spa.State(dimensions, feedback=1., neurons_per_dimension=n_per_dim)\n",
      "    \n",
      "    # Specify the action mapping\n",
      "    actions = spa.Actions('''\n",
      "        ifmax dot(model.vision, WRITE):\n",
      "            model.vision -> model.verb\n",
      "        elifmax dot(model.vision, ONE+TWO+THREE):\n",
      "            model.vision -> model.noun\n",
      "        elifmax 0.5*(dot(NONE-WRITE-ONE-TWO-THREE, model.vision) + dot(model.phrase, WRITE*VERB)):\n",
      "            model.phrase*~NOUN -> model.motor\n",
      "\n",
      "        model.noun*NOUN + model.verb*VERB -> model.phrase\n",
      "    ''')"
     ],
     "language": "python",
     "metadata": {},
     "outputs": [],
     "prompt_number": 5
    },
    {
     "cell_type": "heading",
     "level": 2,
     "metadata": {},
     "source": [
      "Step 2: Probe the output"
     ]
    },
    {
     "cell_type": "code",
     "collapsed": false,
     "input": [
      "with model:\n",
      "    vision = nengo.Probe(model.vision.output, synapse=0.03)\n",
      "    phrase = nengo.Probe(model.phrase.output, synapse=0.03)\n",
      "    motor = nengo.Probe(model.motor.output, synapse=0.03)\n",
      "    noun = nengo.Probe(model.noun.output, synapse=0.03)\n",
      "    verb = nengo.Probe(model.verb.output, synapse=0.03)\n",
      "    thal = actions.all_thals()[0]\n",
      "    selected_actions = nengo.Probe(thal.output, synapse=0.01)\n",
      "    bg = actions.all_bgs()[0]\n",
      "    utility = nengo.Probe(bg.input, synapse=0.01)"
     ],
     "language": "python",
     "metadata": {},
     "outputs": [],
     "prompt_number": 6
    },
    {
     "cell_type": "heading",
     "level": 2,
     "metadata": {},
     "source": [
      "Step 3: Run the model"
     ]
    },
    {
     "cell_type": "code",
     "collapsed": false,
     "input": [
      "# Create the simulator object\n",
      "with nengo.Simulator(model) as sim:\n",
      "    # Simulate the model for 4.5 seconds\n",
      "    sim.run(4.5)"
     ],
     "language": "python",
     "metadata": {},
     "outputs": [],
     "prompt_number": 7
    },
    {
     "cell_type": "heading",
     "level": 2,
     "metadata": {},
     "source": [
      "Step 4: Plot the results"
     ]
    },
    {
     "cell_type": "code",
     "collapsed": false,
     "input": [
      "vocab = model.vocabs[dimensions]\n",
      "\n",
      "fig = plt.figure(figsize=(16,12))\n",
      "\n",
      "p1 = fig.add_subplot(7,1,1)\n",
      "p1.plot(sim.trange(), spa.similarity(sim.data[vision], vocab))\n",
      "p1.legend(vocab.keys(), fontsize='x-small')\n",
      "p1.set_ylabel('Vision')\n",
      "\n",
      "p2 = fig.add_subplot(7,1,2)\n",
      "p2.plot(sim.trange(), spa.similarity(sim.data[phrase], vocab))\n",
      "p2.legend(vocab.keys(), fontsize='x-small')\n",
      "p2.set_ylabel('Phrase')\n",
      "\n",
      "p3 = fig.add_subplot(7,1,3)\n",
      "p3.plot(sim.trange(), spa.similarity(sim.data[motor], vocab))\n",
      "p3.legend(vocab.keys(), fontsize='x-small')\n",
      "p3.set_ylabel('Motor')\n",
      "\n",
      "p4 = fig.add_subplot(7,1,4)\n",
      "p4.plot(sim.trange(), spa.similarity(sim.data[noun], vocab))\n",
      "p4.legend(vocab.keys(), fontsize='x-small')\n",
      "p4.set_ylabel('Noun')\n",
      "\n",
      "p5 = fig.add_subplot(7,1,5)\n",
      "p5.plot(sim.trange(), spa.similarity(sim.data[verb], vocab))\n",
      "p5.legend(vocab.keys(), fontsize='x-small')\n",
      "p5.set_ylabel('Verb')\n",
      "\n",
      "p6 = fig.add_subplot(7,1,6)\n",
      "p6.plot(sim.trange(), sim.data[selected_actions])\n",
      "p6.set_ylabel('Action')\n",
      "\n",
      "p7 = fig.add_subplot(7,1,7)\n",
      "p7.plot(sim.trange(), sim.data[utility])\n",
      "p7.set_ylabel('Utility')\n",
      "\n",
      "fig.subplots_adjust(hspace=0.2)"
     ],
     "language": "python",
     "metadata": {},
     "outputs": [],
     "prompt_number": 9
    }
   ],
   "metadata": {}
  }
 ]
}

