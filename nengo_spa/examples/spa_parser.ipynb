{
 "metadata": {
  "name": ""
 },
 "nbformat": 3,
 "nbformat_minor": 0,
 "worksheets": [
  {
   "cells": [
    {
     "cell_type": "heading",
     "level": 1,
     "metadata": {},
     "source": [
      "Nengo example: Parsing simple commands"
     ]
    },
    {
     "cell_type": "markdown",
     "metadata": {},
     "source": [
      "This example is a simplified version\n",
      "of the language parsing model presented in\n",
      "[Stewart & Eliasmith, 2013](http://compneuro.uwaterloo.ca/publications/stewart2013.html).\n",
      "Please refer to that paper for the high-level details."
     ]
    },
    {
     "cell_type": "code",
     "collapsed": false,
     "input": [
      "# Setup for the notebook\n",
      "import matplotlib.pyplot as plt\n",
      "%matplotlib inline\n",
      "\n",
      "import nengo\n",
      "%load_ext nengo.ipynb\n",
      "import nengo_spa as spa"
     ],
     "language": "python",
     "metadata": {},
     "outputs": []
    },
    {
     "cell_type": "heading",
     "level": 2,
     "metadata": {},
     "source": [
      "Step 1: Create the model"
     ]
    },
    {
     "cell_type": "code",
     "collapsed": false,
     "input": [
      "# Number of dimensions for the SPs\n",
      "dimensions = 64\n",
      "\n",
      "# Make a model object with the SPA network\n",
      "model = spa.Network(label='Parser')\n",
      "\n",
      "with model:\n",
      "    # Specify the modules to be used\n",
      "    model.vision = spa.State(dimensions, neurons_per_dimension=100)\n",
      "    model.phrase = spa.State(dimensions, neurons_per_dimension=100)\n",
      "    model.motor = spa.State(dimensions, neurons_per_dimension=100)\n",
      "    model.noun = spa.State(dimensions, feedback=1., neurons_per_dimension=100)\n",
      "    model.verb = spa.State(dimensions, feedback=1., neurons_per_dimension=100)\n",
      "    \n",
      "    # Specify the action mapping\n",
      "    spa.Actions(\n",
      "        'dot(vision, WRITE) --> verb=vision',\n",
      "        'dot(vision, ONE+TWO+THREE) --> noun=vision',\n",
      "        '0.5*(dot(NONE-WRITE-ONE-TWO-THREE, vision) '\n",
      "        '+ dot(phrase, WRITE*VERB)) '\n",
      "        '--> motor=phrase*~NOUN',\n",
      "        'phrase=noun*NOUN + verb*VERB',\n",
      "    ).build()"
     ],
     "language": "python",
     "metadata": {},
     "outputs": []
    },
    {
     "cell_type": "heading",
     "level": 2,
     "metadata": {},
     "source": [
      "Step 2: Provide the input"
     ]
    },
    {
     "cell_type": "code",
     "collapsed": false,
     "input": [
      "def input_vision(t):\n",
      "    sequence = 'WRITE ONE NONE WRITE TWO NONE THREE WRITE NONE'.split()\n",
      "    index = int(t / 0.5) % len(sequence)\n",
      "    return sequence[index]\n",
      "\n",
      "with model:\n",
      "     model.input = spa.Input()\n",
      "     model.input.vision = input_vision"
     ],
     "language": "python",
     "metadata": {},
     "outputs": []
    },
    {
     "cell_type": "heading",
     "level": 2,
     "metadata": {},
     "source": [
      "Step 3: Probe the output"
     ]
    },
    {
     "cell_type": "code",
     "collapsed": false,
     "input": [
      "with model:\n",
      "    vision = nengo.Probe(model.vision.output, synapse=0.03)\n",
      "    phrase = nengo.Probe(model.phrase.output, synapse=0.03)\n",
      "    motor = nengo.Probe(model.motor.output, synapse=0.03)\n",
      "    noun = nengo.Probe(model.noun.output, synapse=0.03)\n",
      "    verb = nengo.Probe(model.verb.output, synapse=0.03)\n",
      "    actions = nengo.Probe(model.thalamus.actions.output, synapse=0.01)\n",
      "    utility = nengo.Probe(model.bg.input, synapse=0.01)"
     ],
     "language": "python",
     "metadata": {},
     "outputs": []
    },
    {
     "cell_type": "heading",
     "level": 2,
     "metadata": {},
     "source": [
      "Step 4: Run the model"
     ]
    },
    {
     "cell_type": "code",
     "collapsed": false,
     "input": [
      "# Create the simulator object\n",
      "with nengo.Simulator(model) as sim:\n",
      "    # Simulate the model for 4.5 seconds\n",
      "    sim.run(4.5)"
     ],
     "language": "python",
     "metadata": {},
     "outputs": []
    },
    {
     "cell_type": "heading",
     "level": 2,
     "metadata": {},
     "source": [
      "Step 5: Plot the results"
     ]
    },
    {
     "cell_type": "code",
     "collapsed": false,
     "input": [
      "fig = plt.figure(figsize=(16,12))\n",
      "p1 = fig.add_subplot(7,1,1)\n",
      "p1.plot(sim.trange(), model.similarity(sim.data, vision))\n",
      "p1.legend(model.get_output_vocab('vision').keys(), fontsize='x-small')\n",
      "p1.set_ylabel('Vision')\n",
      "\n",
      "p2 = fig.add_subplot(7,1,2)\n",
      "p2.plot(sim.trange(), model.similarity(sim.data, phrase))\n",
      "p2.legend(model.get_output_vocab('phrase').keys(), fontsize='x-small')\n",
      "p2.set_ylabel('Phrase')\n",
      "\n",
      "p3 = fig.add_subplot(7,1,3)\n",
      "p3.plot(sim.trange(), model.similarity(sim.data, motor))\n",
      "p3.legend(model.get_output_vocab('motor').keys(), fontsize='x-small')\n",
      "p3.set_ylabel('Motor')\n",
      "\n",
      "p4 = fig.add_subplot(7,1,4)\n",
      "p4.plot(sim.trange(), model.similarity(sim.data, noun))\n",
      "p4.legend(model.get_output_vocab('noun').keys(), fontsize='x-small')\n",
      "p4.set_ylabel('Noun')\n",
      "\n",
      "p5 = fig.add_subplot(7,1,5)\n",
      "p5.plot(sim.trange(), model.similarity(sim.data, verb))\n",
      "p5.legend(model.get_output_vocab('verb').keys(), fontsize='x-small')\n",
      "p5.set_ylabel('Verb')\n",
      "\n",
      "p6 = fig.add_subplot(7,1,6)\n",
      "p6.plot(sim.trange(), sim.data[actions])\n",
      "p6.set_ylabel('Action')\n",
      "\n",
      "p7 = fig.add_subplot(7,1,7)\n",
      "p7.plot(sim.trange(), sim.data[utility])\n",
      "p7.set_ylabel('Utility')\n",
      "\n",
      "fig.subplots_adjust(hspace=0.2)"
     ],
     "language": "python",
     "metadata": {},
     "outputs": []
    }
   ],
   "metadata": {}
  }
 ]
}
